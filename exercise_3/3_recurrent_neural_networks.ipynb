{
  "nbformat": 4,
  "nbformat_minor": 0,
  "metadata": {
    "kernelspec": {
      "name": "python3",
      "display_name": "Python 3"
    },
    "colab": {
      "name": "3_recurrent_neural_networks.ipynb",
      "provenance": [],
      "collapsed_sections": [],
      "toc_visible": true
    },
    "accelerator": "GPU"
  },
  "cells": [
    {
      "cell_type": "markdown",
      "metadata": {
        "id": "HQOoe-8EnKk7",
        "colab_type": "text"
      },
      "source": [
        "Recurrent Neural Networks (RNN)\n",
        "====================\n",
        "\n",
        "In this exercise we will work with Recurrent Neural Networks (RNN). A RNN is class of neural networks where the output not only depends on the current input but also on previous inputs along a given input sequence. This allows to exhibit temporal dynamic behaviour and contextual information in a sequence. Common applications for RNN are:\n",
        "\n",
        "- time series analysis\n",
        "- speech recognition\n",
        "- machine translation\n",
        "- image captioning\n",
        "\n",
        "\n",
        "Goal of this exercise\n",
        "========\n",
        "\n",
        "This exercise notebook should help you to experiment how recurrent neural networks are implemented, trained, and used for computer vision problems. Therefore, this notebook is structured as follows:\n",
        "1. Implement your own simple RNN class in Pytorch.\n",
        "2. Explore the backpropagation of the gradients in the RNN and discuss the vanishing gradient problem.\n",
        "3. Implement your own LSTM (Long-Short Term Memory) Network and show that this architecture improves the vanishing gradient problem.\n",
        "4. Build a RNN classifier for the MNIST dataset and train your model.\n",
        "5. Tune the hyperparameters of your model and submit your best model to the server to get bonus points.\n",
        "\n"
      ]
    },
    {
      "cell_type": "code",
      "metadata": {
        "id": "5hbBG7RPnzV7",
        "colab_type": "code",
        "colab": {}
      },
      "source": [
        "from google.colab import drive, files\n",
        "drive.mount('/content/drive')"
      ],
      "execution_count": 0,
      "outputs": []
    },
    {
      "cell_type": "code",
      "metadata": {
        "id": "ZtEfgSNEnzva",
        "colab_type": "code",
        "colab": {}
      },
      "source": [
        "!mkdir exercise_code\n",
        "!mkdir exercise_code/classifiers/\n",
        "!mkdir exercise_code/rnn\n",
        "!mkdir models"
      ],
      "execution_count": 0,
      "outputs": []
    },
    {
      "cell_type": "code",
      "metadata": {
        "id": "jgrXSM-bn4tw",
        "colab_type": "code",
        "colab": {
          "base_uri": "https://localhost:8080/",
          "height": 364
        },
        "outputId": "05485e48-c04d-4e35-b722-7c723ecfff2b"
      },
      "source": [
        "!lscpu | grep 'Model name'\n",
        "!lscpu | grep 'Thread(s) per core'\n",
        "!nvidia-smi -L\n",
        "!nvidia-smi"
      ],
      "execution_count": 3,
      "outputs": [
        {
          "output_type": "stream",
          "text": [
            "Model name:          Intel(R) Xeon(R) CPU @ 2.30GHz\n",
            "Thread(s) per core:  2\n",
            "GPU 0: Tesla P100-PCIE-16GB (UUID: GPU-22b7fbb4-0ed4-6515-f188-344b3cc684a5)\n",
            "Sun Jan 12 16:47:06 2020       \n",
            "+-----------------------------------------------------------------------------+\n",
            "| NVIDIA-SMI 440.44       Driver Version: 418.67       CUDA Version: 10.1     |\n",
            "|-------------------------------+----------------------+----------------------+\n",
            "| GPU  Name        Persistence-M| Bus-Id        Disp.A | Volatile Uncorr. ECC |\n",
            "| Fan  Temp  Perf  Pwr:Usage/Cap|         Memory-Usage | GPU-Util  Compute M. |\n",
            "|===============================+======================+======================|\n",
            "|   0  Tesla P100-PCIE...  Off  | 00000000:00:04.0 Off |                    0 |\n",
            "| N/A   40C    P0    29W / 250W |      0MiB / 16280MiB |      0%      Default |\n",
            "+-------------------------------+----------------------+----------------------+\n",
            "                                                                               \n",
            "+-----------------------------------------------------------------------------+\n",
            "| Processes:                                                       GPU Memory |\n",
            "|  GPU       PID   Type   Process name                             Usage      |\n",
            "|=============================================================================|\n",
            "|  No running processes found                                                 |\n",
            "+-----------------------------------------------------------------------------+\n"
          ],
          "name": "stdout"
        }
      ]
    },
    {
      "cell_type": "code",
      "metadata": {
        "id": "Kmm6eQbfnKlE",
        "colab_type": "code",
        "colab": {}
      },
      "source": [
        "import numpy as np\n",
        "import matplotlib.pyplot as plt\n",
        "import torch\n",
        "from torch.autograd import Variable\n",
        "import os\n",
        "\n",
        "device = torch.device(\"cuda:0\" if torch.cuda.is_available() else \"cpu\")\n",
        "\n",
        "%matplotlib inline\n",
        "plt.rcParams['figure.figsize'] = (10.0, 8.0) # set default size of plots\n",
        "plt.rcParams['image.interpolation'] = 'nearest'\n",
        "plt.rcParams['image.cmap'] = 'gray'\n",
        "\n",
        "# for auto-reloading external modules\n",
        "# see http://stackoverflow.com/questions/1907993/autoreload-of-modules-in-ipython\n",
        "%load_ext autoreload\n",
        "%autoreload 2"
      ],
      "execution_count": 0,
      "outputs": []
    },
    {
      "cell_type": "code",
      "metadata": {
        "id": "heRVW9LJnKlU",
        "colab_type": "code",
        "colab": {
          "base_uri": "https://localhost:8080/",
          "height": 69
        },
        "outputId": "c9b56f24-2452-4b41-b11c-9ef65694e8ed"
      },
      "source": [
        "import platform\n",
        "print('Using python: ', platform.python_version())\n",
        "print('Using torch version: ', torch.__version__)\n",
        "print('Using device: ', device)"
      ],
      "execution_count": 5,
      "outputs": [
        {
          "output_type": "stream",
          "text": [
            "Using python:  3.6.9\n",
            "Using torch version:  1.3.1\n",
            "Using device:  cuda:0\n"
          ],
          "name": "stdout"
        }
      ]
    },
    {
      "cell_type": "markdown",
      "metadata": {
        "id": "By-6q7b2nKlf",
        "colab_type": "text"
      },
      "source": [
        "## Simple Recurrent Neural Network\n",
        "\n",
        "http://colah.github.io/posts/2015-08-Understanding-LSTMs/\n",
        "\n",
        "The recurrent loops in a RNN allow relevant information to persist over time. A simple RNN architecture is shown here:\n",
        "\n",
        "<img src=http://colah.github.io/posts/2015-08-Understanding-LSTMs/img/RNN-rolled.png width=\"150\">\n",
        "\n",
        "In this task you have to implement a simple one-layer RNN as a class in Pytorch, where you can choose a relu or tanh activation in the cell.You can see the architecture of a simple RNN in the figure below.\n",
        "\n",
        "\n",
        "<img src=http://colah.github.io/posts/2015-08-Understanding-LSTMs/img/LSTM3-SimpleRNN.png width=\"600\">\n",
        "\n"
      ]
    },
    {
      "cell_type": "code",
      "metadata": {
        "id": "9lrI2NZJnKli",
        "colab_type": "code",
        "colab": {}
      },
      "source": [
        "# ToDo: Implement the RNN class\n",
        "from exercise_code.rnn.rnn_nn import RNN"
      ],
      "execution_count": 0,
      "outputs": []
    },
    {
      "cell_type": "markdown",
      "metadata": {
        "id": "QhCwO0tJnKlq",
        "colab_type": "text"
      },
      "source": [
        "Luckily, Pytorch already has implemented a simple RNN in their library and you can call the RNN with <code>nn.RNN</code>. We will use the Pytorch RNN function to check if we have built the correct cell and compare the output of both functions. We also compare the running time of both classes."
      ]
    },
    {
      "cell_type": "code",
      "metadata": {
        "id": "QYpIlQcTnKls",
        "colab_type": "code",
        "colab": {}
      },
      "source": [
        "import torch.nn as nn\n",
        "import timeit\n",
        "\n",
        "# choose your network parameters\n",
        "input_size = 3\n",
        "hidden_dim = 3\n",
        "seq_len = 10 \n",
        "\n",
        "# define the two models\n",
        "pytorch_rnn=nn.RNN(input_size, hidden_dim)\n",
        "i2dl_rnn=RNN(input_size, hidden_dim)\n",
        "\n",
        "# initialise both rnn with same values\n",
        "for p in pytorch_rnn.parameters():\n",
        "    nn.init.constant_(p, val=0.3)\n",
        "for p in i2dl_rnn.parameters():\n",
        "    nn.init.constant_(p, val=0.3)\n",
        "    \n",
        "X=torch.randn(seq_len, 1, input_size)\n",
        "\n",
        "output_pytorch, h_pytorch = pytorch_rnn(X)\n",
        "output_i2dl, h_i2dl = i2dl_rnn(X)\n",
        "\n",
        "\n",
        "# The difference of outputs should be 0!!\n",
        "\n",
        "diff = torch.sum((output_pytorch-output_i2dl) ** 2)\n",
        "print(\"Differnce between pytorch and your RNN implementation: %s\" % diff.item())\n",
        "if diff.item() < 10 ** -10:\n",
        "    print(\"Cool, you implemented a correct model.\")\n",
        "else:\n",
        "    print(\"Upps! There is something wrong in your model. Try again!\")"
      ],
      "execution_count": 0,
      "outputs": []
    },
    {
      "cell_type": "code",
      "metadata": {
        "id": "zVnYqxnTnKmE",
        "colab_type": "code",
        "colab": {}
      },
      "source": [
        "import timeit\n",
        "runs=10 ** 4\n",
        "\n",
        "print(\"Time Pytorch RNN {} runs: {:.3f}s\".format(runs, timeit.timeit(\"pytorch_rnn(X)\", \n",
        "                                       setup=\"from __main__ import pytorch_rnn, X\", \n",
        "                                       number=runs))\n",
        "     )\n",
        "\n",
        "print(\"Time I2DL RNN {} run: {:.3f}s\".format(runs, timeit.timeit(\"i2dl_rnn(X)\", \n",
        "                                       setup=\"from __main__ import i2dl_rnn, X\", \n",
        "                                       number=runs))\n",
        "     )"
      ],
      "execution_count": 0,
      "outputs": []
    },
    {
      "cell_type": "markdown",
      "metadata": {
        "id": "lrXZR33GnKmK",
        "colab_type": "text"
      },
      "source": [
        "From now on we will use the Pytorch module that is faster and optimised in performance. However, it is always a good exercise to build the functions by yourself and we really advice you to do the exercise!"
      ]
    },
    {
      "cell_type": "markdown",
      "metadata": {
        "id": "dSAElFlXnKmM",
        "colab_type": "text"
      },
      "source": [
        "## Vanishing Gradient\n",
        "\n",
        "As discussed in the lecture, the simple RNN suffers from vanishing gradients in the backpropagation. The hidden state is manipulated in every time step along the sequence and the effect of the past inputs to the final output vanishes with the distance in time. In the next cell we will explore the vanishing effect of previous inputs in the RNN."
      ]
    },
    {
      "cell_type": "code",
      "metadata": {
        "id": "V6mPBActnKmP",
        "colab_type": "code",
        "colab": {}
      },
      "source": [
        "############################################################################\n",
        "# TODO: Define a RNN and explore the gradients on the output h_T wrt. the  #\n",
        "# input at time t and plot your result. What behaviour do you observe?     #\n",
        "# Hints:                                                                   #\n",
        "#   - use one input feature                                                #\n",
        "#   - pytorch allows backward() pass wrt. to any vector                    #\n",
        "#   - backward() can only be applied to scalars and not to output tensors  #\n",
        "#   - choose a good representation of the gradient plot                    #\n",
        "############################################################################\n",
        " \n",
        "    \n",
        "    \n",
        "############################################################################\n",
        "#                             END OF YOUR CODE                             #\n",
        "############################################################################"
      ],
      "execution_count": 0,
      "outputs": []
    },
    {
      "cell_type": "markdown",
      "metadata": {
        "id": "r4rVh4AKnKmZ",
        "colab_type": "text"
      },
      "source": [
        "\n",
        "<div class=\"alert alert-info\">\n",
        "    <h3>Note</h3>\n",
        "    <p>It can be seen that the gradient of the output at time t wrt. to a previous input decreases exponentially. Hence, the final output does not change significantly for changes in the previous input and hence the RNN does not have memory.</p> \n",
        "<h3>Question</h3> \n",
        "<p>In order to better understand the vanishing gradient problem, calculate the gradients \n",
        "dh_t/dV, dh_t /dW, and dh_t/dX_0 analytically for t=3 and h_0=0 using Eq. 1. This exercise might seem a little bit tedious but it is really useful. Can you explain the vanishing gradient mathematically based on your findings?</p>\n",
        "</div>"
      ]
    },
    {
      "cell_type": "markdown",
      "metadata": {
        "id": "OEYCZ0RKnKmb",
        "colab_type": "text"
      },
      "source": [
        "## Long-Short Term Memory Network (LSTM)\n",
        "The vanishing gradient problem had been known for some time until Schmidhuber (1997) developed the Long-Short Term Memory Network and showed that this architecture can overcome the problem. <br> \n",
        "A LSTM is a more advanced recurrent network architecture that is able to learn long time dependencies. The architecture of a LSTM is composed of a forget, input, and output gate and the cell can remember values over arbitrary time intervals. Despite various different and exotic LSTM architectures, the standard LSTM cell is shwon in the figure below:\n",
        "\n",
        "\n",
        "<img src=http://colah.github.io/posts/2015-08-Understanding-LSTMs/img/LSTM3-chain.png width=\"600\">\n",
        "\n"
      ]
    },
    {
      "cell_type": "markdown",
      "metadata": {
        "id": "NnGjZqDDnKmd",
        "colab_type": "text"
      },
      "source": [
        "Compared to a simple RNN the LSTM cell has a hidden vector and an additional cell state vector. __What size does the cell state have?__ <br>\n",
        "The operations inside the LSTM are given as \n",
        "\n",
        "<img src=https://wikimedia.org/api/rest_v1/media/math/render/svg/2db2cba6a0d878e13932fa27ce6f3fb71ad99cf1  width=\"600\">\n",
        " \n",
        "f_t: forget gate,  <br>\n",
        "i_t: input gate, <br>\n",
        "o_t: output gate, <br>\n",
        "h_t: hidden state vector, <br>\n",
        "c_t: cell state vector, <br>\n",
        "x_t: input vector, <br>\n",
        "t is time step, \n",
        "<br> \n",
        "<br> \n",
        "and<br> \n",
        "sigma_g: sigmoid activation <br> \n",
        "sigma_c and sigma_h: hyperbolic tangent function\n"
      ]
    },
    {
      "cell_type": "markdown",
      "metadata": {
        "id": "MNiB1IqknKmg",
        "colab_type": "text"
      },
      "source": [
        "In the next step you should implement your own LSTM with the operations stated above."
      ]
    },
    {
      "cell_type": "code",
      "metadata": {
        "id": "fERUL4uZnKmk",
        "colab_type": "code",
        "colab": {}
      },
      "source": [
        "# ToDo: Implement the RNN class\n",
        "from exercise_code.rnn.rnn_nn import LSTM"
      ],
      "execution_count": 0,
      "outputs": []
    },
    {
      "cell_type": "code",
      "metadata": {
        "id": "zeT3E1R8nKmp",
        "colab_type": "code",
        "colab": {}
      },
      "source": [
        "\n",
        "# choose your input parameters\n",
        "input_size = 3\n",
        "hidden_dim = 3\n",
        "seq_len = 10 \n",
        "\n",
        "# define the two models\n",
        "pytorch_lstm=nn.LSTM(input_size, hidden_dim)\n",
        "i2dl_lstm=LSTM(input_size, hidden_dim)\n",
        "\n",
        "# initialise both lstms with same values\n",
        "for p in pytorch_lstm.parameters():\n",
        "    nn.init.constant_(p, val=0.3)\n",
        "for p in i2dl_lstm.parameters():\n",
        "    nn.init.constant_(p, val=0.3)\n",
        "    \n",
        "X=torch.randn(seq_len, 1, input_size)\n",
        "\n",
        "output_pytorch, (h_pytorch, _) = pytorch_lstm(X)\n",
        "output_i2dl , (h_i2dl, _ )= i2dl_lstm(X)\n",
        "\n",
        "# The difference of outputs should be 0!!\n",
        "diff = torch.sum((output_pytorch-output_i2dl) ** 2)\n",
        "print(\"Differnce between pytorch and your RNN implementation: %s\" % diff.item())\n",
        "if diff.item() < 10 ** -10:\n",
        "    print(\"Cool, you implemented a correct model.\")\n",
        "else:\n",
        "    print(\"Upps! There is something wrong in your model. Try again!\")"
      ],
      "execution_count": 0,
      "outputs": []
    },
    {
      "cell_type": "code",
      "metadata": {
        "id": "Qzkn1e-BnKmz",
        "colab_type": "code",
        "colab": {}
      },
      "source": [
        "import timeit\n",
        "runs=10 ** 4\n",
        "\n",
        "print(\"Time Pytorch LSTM {} runs: {:.3f}s\".format(runs, timeit.timeit(\"pytorch_lstm(X)\", \n",
        "                                       setup=\"from __main__ import pytorch_lstm, X\", \n",
        "                                       number=runs))\n",
        "     )\n",
        "\n",
        "print(\"Time I2DL LSTM {} runs: {:.3f}s\".format(runs, timeit.timeit(\"i2dl_lstm(X)\", \n",
        "                                       setup=\"from __main__ import i2dl_lstm, X\", \n",
        "                                       number=runs))\n",
        "     )"
      ],
      "execution_count": 0,
      "outputs": []
    },
    {
      "cell_type": "markdown",
      "metadata": {
        "id": "37clJiU_nKm4",
        "colab_type": "text"
      },
      "source": [
        "## Explore Gradients \n",
        "Analogously to the RNN, calculate the gradients of the input wrt. to the output of the LSTM and compare it against the RNN gradients. __What do you see?__\n"
      ]
    },
    {
      "cell_type": "code",
      "metadata": {
        "id": "6JcOGap2nKm6",
        "colab_type": "code",
        "colab": {}
      },
      "source": [
        "############################################################################\n",
        "# TODO: Define a RNN and LSTM and explore the gradients on the output h_T   #\n",
        "# wrt. the input at time t and plot your result.                           #\n",
        "############################################################################\n",
        "\n",
        "\n",
        "\n",
        "############################################################################\n",
        "#                             END OF YOUR CODE                             #\n",
        "############################################################################"
      ],
      "execution_count": 0,
      "outputs": []
    },
    {
      "cell_type": "markdown",
      "metadata": {
        "id": "CaxntYd6nKnB",
        "colab_type": "text"
      },
      "source": [
        "## MNIST image classification with RNNs\n",
        "\n",
        "In the previous exercises we already have classified images with a Fully Connected and Convolutional Network. In this exercise, we will solve the problem of image classification with a recurrent neural network.  \n",
        "\n",
        "For the experiment we use the MNIST handwritten digits dataset which we already know from the autoencoder exercise. This dataset consists of images of the 10 different digits (10 classes). The images have the resolution 28 x 28. The idea for the RNN classifier is to interpret the image as a sequence of rows. This means that we pass the rows through the RNN and use the final hidden state for classification. "
      ]
    },
    {
      "cell_type": "markdown",
      "metadata": {
        "id": "z6nu7lLRnKnF",
        "colab_type": "text"
      },
      "source": [
        "\n",
        "<div class=\"alert alert-info\">\n",
        "    <h3>Note</h3>\n",
        "    <p>\n",
        "    In this semester you have seen three different types of neural networks, namely Multi-Layer Perceptrons (MLPs), Convolutional Neural Networks (CNNs), and now Recurrent Neural Networks (RNNs). We have seen that we can use all three architectures for image classification. However, it turned out that some models are better than others for image classification. Try to think about advantages and disadvantages of the models, regarding # of parameters, transformations of the object in the image (scaling, rotation, translation,...), training time, testing time, over-fitting, etc."
      ]
    },
    {
      "cell_type": "code",
      "metadata": {
        "id": "teIP1gbdnKnG",
        "colab_type": "code",
        "colab": {}
      },
      "source": [
        "# Define data loader\n",
        "from torchvision import transforms\n",
        "import pickle\n",
        "\n",
        "class Unsqueeze(object):\n",
        "    \"\"\"Adds a channel dimension that that our 2 dimensional input (H, W), \n",
        "    fits the 3 dimensional (H, W, C) expectations of pytorch's ToTensor function which\n",
        "    expects a PIL image. This is very inefficient but you most probably will use pytorch's\n",
        "    PIL image loader. Check out the documentation and make it more efficient :)\n",
        "    \"\"\"\n",
        "    def __init__(self, dimension=0):\n",
        "        self.dimension = dimension\n",
        "    def __call__(self, numpy_array):\n",
        "        extended_array = np.expand_dims(numpy_array, self.dimension)\n",
        "        return extended_array\n",
        "    def __repr__(self):\n",
        "        return self.__class__.__name__ + 'dimension={}'.format(dimension)\n",
        "\n",
        "    \n",
        "# transformation of data\n",
        "transform = transforms.Compose([\n",
        "    Unsqueeze(dimension=3),     \n",
        "    transforms.ToTensor(),\n",
        "    transforms.Normalize(mean=(0.5,), std=(0.5,))\n",
        "])\n",
        "\n",
        "\n",
        "class MnistDataset(torch.utils.data.Dataset):\n",
        "    def __init__(self, images, labels, \n",
        "                 transform=None):\n",
        "        super(MnistDataset, self).__init__()\n",
        "        self.images = images\n",
        "        self.labels = labels\n",
        "        self.transform = transform\n",
        "       \n",
        "    def __len__(self):\n",
        "        return len(self.images)\n",
        "    \n",
        "    def __getitem__(self, idx):\n",
        "        image = self.images[idx]\n",
        "        label = self.labels[idx]\n",
        "        if self.transform: \n",
        "            image = self.transform(image)\n",
        "        return image, label\n",
        "\n",
        "    \n",
        "# loading the train data\n",
        "with open(\"../datasets/mnist/mnist_train.p\", \"rb\") as f:\n",
        "    mnist_raw = pickle.load(f)\n",
        "\n",
        "X, y = mnist_raw\n",
        "############################################################################\n",
        "# TODO: Set a useful training/ validation split                            #\n",
        "############################################################################    \n",
        "\n",
        "\n",
        "\n",
        "############################################################################\n",
        "#                             END OF YOUR CODE                             #\n",
        "############################################################################\n",
        "\n",
        "\n",
        "train_dset = MnistDataset(X[:int(len(X) * train_split)], y[:int(len(X) * train_split)], transform=transform)\n",
        "val_dset = MnistDataset(X[int(len(X) * train_split):], y[int(len(X) * train_split):], transform=transform)\n"
      ],
      "execution_count": 0,
      "outputs": []
    },
    {
      "cell_type": "code",
      "metadata": {
        "id": "8Yxf3E7mnKnM",
        "colab_type": "code",
        "colab": {}
      },
      "source": [
        "# Visualize some examples from the dataset. Stolen from other notebooks\n",
        "# We show a few examples of training images from each class.\n",
        "X=train_dset.images\n",
        "y=train_dset.labels\n",
        "\n",
        "\n",
        "classes = list(range(10))\n",
        "num_classes = len(classes)\n",
        "samples_per_class = 5\n",
        "for y_hat, cls in enumerate(classes):\n",
        "    idxs = np.flatnonzero(train_dset.labels == y_hat)\n",
        "    idxs = np.random.choice(idxs, samples_per_class, replace=False)\n",
        "    for i, idx in enumerate(idxs):\n",
        "        plt_idx = i * num_classes + y_hat + 1\n",
        "        plt.subplot(samples_per_class, num_classes, plt_idx)\n",
        "        plt.imshow(X[idx])\n",
        "        plt.axis('off')\n",
        "        if i == 0:\n",
        "            plt.title(cls)\n",
        "plt.show()"
      ],
      "execution_count": 0,
      "outputs": []
    },
    {
      "cell_type": "markdown",
      "metadata": {
        "id": "t8bwJot9nKnS",
        "colab_type": "text"
      },
      "source": [
        "Build a classifier based on a RNN where you sequentially feed the rows in the network and use the final hidden state for prediction."
      ]
    },
    {
      "cell_type": "markdown",
      "metadata": {
        "id": "C7opuC9cnKnV",
        "colab_type": "text"
      },
      "source": [
        "<img src=https://cdn-images-1.medium.com/max/800/1*Cm_c-I02rBa1rtLZXBhNUw.png width=\"600\">\n"
      ]
    },
    {
      "cell_type": "code",
      "metadata": {
        "id": "7dYVQ-h7nKnZ",
        "colab_type": "code",
        "colab": {}
      },
      "source": [
        "from exercise_code.rnn.rnn_nn import LSTM_Classifier, RNN_Classifier\n",
        "model_rnn = LSTM_Classifier()\n"
      ],
      "execution_count": 0,
      "outputs": []
    },
    {
      "cell_type": "code",
      "metadata": {
        "id": "a_I0drq2nKnd",
        "colab_type": "code",
        "colab": {}
      },
      "source": [
        "from exercise_code.rnn.solver import Solver"
      ],
      "execution_count": 0,
      "outputs": []
    },
    {
      "cell_type": "code",
      "metadata": {
        "scrolled": false,
        "id": "pPat8sCJnKnj",
        "colab_type": "code",
        "colab": {}
      },
      "source": [
        "batch_size = 32\n",
        "train_loader = torch.utils.data.DataLoader(\n",
        "                 dataset=train_dset,\n",
        "                 batch_size=batch_size,\n",
        "                 shuffle=True)\n",
        "val_loader = torch.utils.data.DataLoader(\n",
        "                dataset=val_dset,\n",
        "                batch_size=batch_size,\n",
        "                shuffle=False)\n",
        "\n",
        "solver = Solver(optim_args={\"lr\": 1e-3})\n",
        "\n",
        "# train rnn model\n",
        "solver.train(model_rnn, train_loader, val_loader, log_nth=50, num_epochs=10)"
      ],
      "execution_count": 0,
      "outputs": []
    },
    {
      "cell_type": "markdown",
      "metadata": {
        "id": "pGFO_FPZnKnp",
        "colab_type": "text"
      },
      "source": [
        "Train your RNN classifier and try to tune the hyperparameters. With your simple RNN classifier you should exceed an accuracy higher than __90%__."
      ]
    },
    {
      "cell_type": "markdown",
      "metadata": {
        "id": "UNGpLolunKnr",
        "colab_type": "text"
      },
      "source": [
        "Try to improve your model by using a LSTM."
      ]
    },
    {
      "cell_type": "code",
      "metadata": {
        "id": "RP7GPqOcnKns",
        "colab_type": "code",
        "colab": {}
      },
      "source": [
        "from exercise_code.rnn.rnn_nn import LSTM_Classifier\n",
        "model= LSTM_Classifier()"
      ],
      "execution_count": 0,
      "outputs": []
    },
    {
      "cell_type": "markdown",
      "metadata": {
        "id": "uJA3j7vOnKnz",
        "colab_type": "text"
      },
      "source": [
        "Train your LSTM model again and see wether it improves performance on the validation set"
      ]
    },
    {
      "cell_type": "markdown",
      "metadata": {
        "id": "Fuef0WT-nKn1",
        "colab_type": "text"
      },
      "source": [
        "# Test your Model\n",
        "When you are satisfied with your training, you can save the model. In order to be eligible for the bonus points you have to achieve a score higher than __97__."
      ]
    },
    {
      "cell_type": "markdown",
      "metadata": {
        "id": "J_hzxVBOnKn3",
        "colab_type": "text"
      },
      "source": [
        "## Save the Model\n",
        "\n",
        "When you are satisfied with your training, you can save the model."
      ]
    },
    {
      "cell_type": "code",
      "metadata": {
        "id": "EZf4X3WCnKn5",
        "colab_type": "code",
        "colab": {}
      },
      "source": [
        "os.makedirs('models', exist_ok=True)\n",
        "model_rnn.save(\"models/rnn_mnist_nn.model\")"
      ],
      "execution_count": 0,
      "outputs": []
    },
    {
      "cell_type": "code",
      "metadata": {
        "id": "eUfzNDsFnKn9",
        "colab_type": "code",
        "colab": {}
      },
      "source": [
        ""
      ],
      "execution_count": 0,
      "outputs": []
    }
  ]
}