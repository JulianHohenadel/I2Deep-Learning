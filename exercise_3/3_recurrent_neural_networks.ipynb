{
  "nbformat": 4,
  "nbformat_minor": 0,
  "metadata": {
    "kernelspec": {
      "name": "python3",
      "display_name": "Python 3"
    },
    "colab": {
      "name": "3_recurrent_neural_networks.ipynb",
      "provenance": [],
      "collapsed_sections": [],
      "toc_visible": true
    },
    "accelerator": "GPU"
  },
  "cells": [
    {
      "cell_type": "markdown",
      "metadata": {
        "id": "HQOoe-8EnKk7",
        "colab_type": "text"
      },
      "source": [
        "Recurrent Neural Networks (RNN)\n",
        "====================\n",
        "\n",
        "In this exercise we will work with Recurrent Neural Networks (RNN). A RNN is class of neural networks where the output not only depends on the current input but also on previous inputs along a given input sequence. This allows to exhibit temporal dynamic behaviour and contextual information in a sequence. Common applications for RNN are:\n",
        "\n",
        "- time series analysis\n",
        "- speech recognition\n",
        "- machine translation\n",
        "- image captioning\n",
        "\n",
        "\n",
        "Goal of this exercise\n",
        "========\n",
        "\n",
        "This exercise notebook should help you to experiment how recurrent neural networks are implemented, trained, and used for computer vision problems. Therefore, this notebook is structured as follows:\n",
        "1. Implement your own simple RNN class in Pytorch.\n",
        "2. Explore the backpropagation of the gradients in the RNN and discuss the vanishing gradient problem.\n",
        "3. Implement your own LSTM (Long-Short Term Memory) Network and show that this architecture improves the vanishing gradient problem.\n",
        "4. Build a RNN classifier for the MNIST dataset and train your model.\n",
        "5. Tune the hyperparameters of your model and submit your best model to the server to get bonus points.\n",
        "\n"
      ]
    },
    {
      "cell_type": "code",
      "metadata": {
        "id": "5hbBG7RPnzV7",
        "colab_type": "code",
        "colab": {}
      },
      "source": [
        "from google.colab import drive, files\n",
        "drive.mount('/content/drive')"
      ],
      "execution_count": 0,
      "outputs": []
    },
    {
      "cell_type": "code",
      "metadata": {
        "id": "ZtEfgSNEnzva",
        "colab_type": "code",
        "colab": {}
      },
      "source": [
        "!mkdir exercise_code\n",
        "!mkdir exercise_code/classifiers/\n",
        "!mkdir exercise_code/rnn\n",
        "!mkdir models"
      ],
      "execution_count": 0,
      "outputs": []
    },
    {
      "cell_type": "code",
      "metadata": {
        "id": "jgrXSM-bn4tw",
        "colab_type": "code",
        "outputId": "e8acb523-38ba-4bde-88fa-3cc5337b00d2",
        "colab": {
          "base_uri": "https://localhost:8080/",
          "height": 364
        }
      },
      "source": [
        "!lscpu | grep 'Model name'\n",
        "!lscpu | grep 'Thread(s) per core'\n",
        "!nvidia-smi -L\n",
        "!nvidia-smi"
      ],
      "execution_count": 3,
      "outputs": [
        {
          "output_type": "stream",
          "text": [
            "Model name:          Intel(R) Xeon(R) CPU @ 2.20GHz\n",
            "Thread(s) per core:  2\n",
            "GPU 0: Tesla P100-PCIE-16GB (UUID: GPU-6e6091aa-6b00-862c-c9f5-780f99118d13)\n",
            "Mon Jan 13 18:09:11 2020       \n",
            "+-----------------------------------------------------------------------------+\n",
            "| NVIDIA-SMI 440.44       Driver Version: 418.67       CUDA Version: 10.1     |\n",
            "|-------------------------------+----------------------+----------------------+\n",
            "| GPU  Name        Persistence-M| Bus-Id        Disp.A | Volatile Uncorr. ECC |\n",
            "| Fan  Temp  Perf  Pwr:Usage/Cap|         Memory-Usage | GPU-Util  Compute M. |\n",
            "|===============================+======================+======================|\n",
            "|   0  Tesla P100-PCIE...  Off  | 00000000:00:04.0 Off |                    0 |\n",
            "| N/A   32C    P0    25W / 250W |      0MiB / 16280MiB |      0%      Default |\n",
            "+-------------------------------+----------------------+----------------------+\n",
            "                                                                               \n",
            "+-----------------------------------------------------------------------------+\n",
            "| Processes:                                                       GPU Memory |\n",
            "|  GPU       PID   Type   Process name                             Usage      |\n",
            "|=============================================================================|\n",
            "|  No running processes found                                                 |\n",
            "+-----------------------------------------------------------------------------+\n"
          ],
          "name": "stdout"
        }
      ]
    },
    {
      "cell_type": "code",
      "metadata": {
        "id": "Kmm6eQbfnKlE",
        "colab_type": "code",
        "colab": {}
      },
      "source": [
        "import numpy as np\n",
        "import matplotlib.pyplot as plt\n",
        "import torch\n",
        "from torch.autograd import Variable\n",
        "import os\n",
        "\n",
        "device = torch.device(\"cuda:0\" if torch.cuda.is_available() else \"cpu\")\n",
        "\n",
        "%matplotlib inline\n",
        "plt.rcParams['figure.figsize'] = (10.0, 8.0) # set default size of plots\n",
        "plt.rcParams['image.interpolation'] = 'nearest'\n",
        "plt.rcParams['image.cmap'] = 'gray'\n",
        "\n",
        "# for auto-reloading external modules\n",
        "# see http://stackoverflow.com/questions/1907993/autoreload-of-modules-in-ipython\n",
        "%load_ext autoreload\n",
        "%autoreload 2"
      ],
      "execution_count": 0,
      "outputs": []
    },
    {
      "cell_type": "code",
      "metadata": {
        "id": "heRVW9LJnKlU",
        "colab_type": "code",
        "outputId": "19c1e2b5-cb15-4578-b472-8c2ae22e3584",
        "colab": {
          "base_uri": "https://localhost:8080/",
          "height": 69
        }
      },
      "source": [
        "import platform\n",
        "print('Using python: ', platform.python_version())\n",
        "print('Using torch version: ', torch.__version__)\n",
        "print('Using device: ', device)"
      ],
      "execution_count": 5,
      "outputs": [
        {
          "output_type": "stream",
          "text": [
            "Using python:  3.6.9\n",
            "Using torch version:  1.3.1\n",
            "Using device:  cuda:0\n"
          ],
          "name": "stdout"
        }
      ]
    },
    {
      "cell_type": "markdown",
      "metadata": {
        "id": "By-6q7b2nKlf",
        "colab_type": "text"
      },
      "source": [
        "## Simple Recurrent Neural Network\n",
        "\n",
        "http://colah.github.io/posts/2015-08-Understanding-LSTMs/\n",
        "\n",
        "The recurrent loops in a RNN allow relevant information to persist over time. A simple RNN architecture is shown here:\n",
        "\n",
        "<img src=http://colah.github.io/posts/2015-08-Understanding-LSTMs/img/RNN-rolled.png width=\"150\">\n",
        "\n",
        "In this task you have to implement a simple one-layer RNN as a class in Pytorch, where you can choose a relu or tanh activation in the cell.You can see the architecture of a simple RNN in the figure below.\n",
        "\n",
        "\n",
        "<img src=http://colah.github.io/posts/2015-08-Understanding-LSTMs/img/LSTM3-SimpleRNN.png width=\"600\">\n",
        "\n"
      ]
    },
    {
      "cell_type": "code",
      "metadata": {
        "id": "9lrI2NZJnKli",
        "colab_type": "code",
        "colab": {}
      },
      "source": [
        "# ToDo: Implement the RNN class\n",
        "from exercise_code.rnn.rnn_nn import RNN"
      ],
      "execution_count": 0,
      "outputs": []
    },
    {
      "cell_type": "markdown",
      "metadata": {
        "id": "QhCwO0tJnKlq",
        "colab_type": "text"
      },
      "source": [
        "Luckily, Pytorch already has implemented a simple RNN in their library and you can call the RNN with <code>nn.RNN</code>. We will use the Pytorch RNN function to check if we have built the correct cell and compare the output of both functions. We also compare the running time of both classes."
      ]
    },
    {
      "cell_type": "code",
      "metadata": {
        "id": "QYpIlQcTnKls",
        "colab_type": "code",
        "outputId": "c4ac402d-82a8-4481-c645-dd897ccc0a6a",
        "colab": {
          "base_uri": "https://localhost:8080/",
          "height": 52
        }
      },
      "source": [
        "import torch.nn as nn\n",
        "import timeit\n",
        "\n",
        "# choose your network parameters\n",
        "input_size = 3\n",
        "hidden_dim = 3\n",
        "seq_len = 10 \n",
        "\n",
        "# define the two models\n",
        "pytorch_rnn=nn.RNN(input_size, hidden_dim)\n",
        "i2dl_rnn=RNN(input_size, hidden_dim)\n",
        "\n",
        "# initialise both rnn with same values\n",
        "for p in pytorch_rnn.parameters():\n",
        "    nn.init.constant_(p, val=0.3)\n",
        "for p in i2dl_rnn.parameters():\n",
        "    nn.init.constant_(p, val=0.3)\n",
        "    \n",
        "X=torch.randn(seq_len, 1, input_size)\n",
        "\n",
        "output_pytorch, h_pytorch = pytorch_rnn(X)\n",
        "output_i2dl, h_i2dl = i2dl_rnn(X)\n",
        "\n",
        "\n",
        "# The difference of outputs should be 0!!\n",
        "\n",
        "diff = torch.sum((output_pytorch-output_i2dl) ** 2)\n",
        "print(\"Differnce between pytorch and your RNN implementation: %s\" % diff.item())\n",
        "if diff.item() < 10 ** -10:\n",
        "    print(\"Cool, you implemented a correct model.\")\n",
        "else:\n",
        "    print(\"Upps! There is something wrong in your model. Try again!\")"
      ],
      "execution_count": 7,
      "outputs": [
        {
          "output_type": "stream",
          "text": [
            "Differnce between pytorch and your RNN implementation: 0.0\n",
            "Cool, you implemented a correct model.\n"
          ],
          "name": "stdout"
        }
      ]
    },
    {
      "cell_type": "code",
      "metadata": {
        "id": "zVnYqxnTnKmE",
        "colab_type": "code",
        "outputId": "5d98e367-4597-4931-947c-dad1f6d3884f",
        "colab": {
          "base_uri": "https://localhost:8080/",
          "height": 52
        }
      },
      "source": [
        "import timeit\n",
        "runs=10 ** 4\n",
        "\n",
        "print(\"Time Pytorch RNN {} runs: {:.3f}s\".format(runs, timeit.timeit(\"pytorch_rnn(X)\", \n",
        "                                       setup=\"from __main__ import pytorch_rnn, X\", \n",
        "                                       number=runs))\n",
        "     )\n",
        "\n",
        "print(\"Time I2DL RNN {} run: {:.3f}s\".format(runs, timeit.timeit(\"i2dl_rnn(X)\", \n",
        "                                       setup=\"from __main__ import i2dl_rnn, X\", \n",
        "                                       number=runs))\n",
        "     )"
      ],
      "execution_count": 8,
      "outputs": [
        {
          "output_type": "stream",
          "text": [
            "Time Pytorch RNN 10000 runs: 2.237s\n",
            "Time I2DL RNN 10000 run: 3.575s\n"
          ],
          "name": "stdout"
        }
      ]
    },
    {
      "cell_type": "markdown",
      "metadata": {
        "id": "lrXZR33GnKmK",
        "colab_type": "text"
      },
      "source": [
        "From now on we will use the Pytorch module that is faster and optimised in performance. However, it is always a good exercise to build the functions by yourself and we really advice you to do the exercise!"
      ]
    },
    {
      "cell_type": "markdown",
      "metadata": {
        "id": "dSAElFlXnKmM",
        "colab_type": "text"
      },
      "source": [
        "## Vanishing Gradient\n",
        "\n",
        "As discussed in the lecture, the simple RNN suffers from vanishing gradients in the backpropagation. The hidden state is manipulated in every time step along the sequence and the effect of the past inputs to the final output vanishes with the distance in time. In the next cell we will explore the vanishing effect of previous inputs in the RNN."
      ]
    },
    {
      "cell_type": "code",
      "metadata": {
        "id": "V6mPBActnKmP",
        "colab_type": "code",
        "outputId": "a594716c-96da-4b8c-8ffe-82129477a431",
        "colab": {
          "base_uri": "https://localhost:8080/",
          "height": 513
        }
      },
      "source": [
        "############################################################################\n",
        "# TODO: Define a RNN and explore the gradients on the output h_T wrt. the  #\n",
        "# input at time t and plot your result. What behaviour do you observe?     #\n",
        "# Hints:                                                                   #\n",
        "#   - use one input feature                                                #\n",
        "#   - pytorch allows backward() pass wrt. to any vector                    #\n",
        "#   - backward() can only be applied to scalars and not to output tensors  #\n",
        "#   - choose a good representation of the gradient plot                    #\n",
        "############################################################################\n",
        "hidden_size = 1\n",
        "input_size = 1\n",
        "time_steps = 50\n",
        "\n",
        "# RNN\n",
        "rnn = nn.RNN(input_size, hidden_size)\n",
        "rand_rnn = torch.randn(time_steps, 1, input_size)\n",
        "rand_rnn.requires_grad = True\n",
        "\n",
        "_, h = rnn(rand_rnn)\n",
        "\n",
        "h.requires_grad\n",
        "h.sum().backward()\n",
        "\n",
        "plt.semilogy(np.flip(abs(rand_rnn.grad.view(-1).detach().cpu().numpy())), label=\"tanh\")\n",
        "\n",
        "plt.legend()\n",
        "plt.xlabel(\"Time step t\")\n",
        "plt.ylabel(\"d h_T/d x_t\")\n",
        "plt.title(\"Gradient of output wrt. input\")\n",
        "\n",
        "plt.show()\n",
        "############################################################################\n",
        "#                             END OF YOUR CODE                             #\n",
        "############################################################################"
      ],
      "execution_count": 94,
      "outputs": [
        {
          "output_type": "display_data",
          "data": {
            "image/png": "[encoded data removed]",
            "text/plain": [
              "<Figure size 720x576 with 1 Axes>"
            ]
          },
          "metadata": {
            "tags": []
          }
        }
      ]
    },
    {
      "cell_type": "markdown",
      "metadata": {
        "id": "r4rVh4AKnKmZ",
        "colab_type": "text"
      },
      "source": [
        "\n",
        "<div class=\"alert alert-info\">\n",
        "    <h3>Note</h3>\n",
        "    <p>It can be seen that the gradient of the output at time t wrt. to a previous input decreases exponentially. Hence, the final output does not change significantly for changes in the previous input and hence the RNN does not have memory.</p> \n",
        "<h3>Question</h3> \n",
        "<p>In order to better understand the vanishing gradient problem, calculate the gradients \n",
        "dh_t/dV, dh_t /dW, and dh_t/dX_0 analytically for t=3 and h_0=0 using Eq. 1. This exercise might seem a little bit tedious but it is really useful. Can you explain the vanishing gradient mathematically based on your findings?</p>\n",
        "</div>"
      ]
    },
    {
      "cell_type": "markdown",
      "metadata": {
        "id": "OEYCZ0RKnKmb",
        "colab_type": "text"
      },
      "source": [
        "## Long-Short Term Memory Network (LSTM)\n",
        "The vanishing gradient problem had been known for some time until Schmidhuber (1997) developed the Long-Short Term Memory Network and showed that this architecture can overcome the problem. <br> \n",
        "A LSTM is a more advanced recurrent network architecture that is able to learn long time dependencies. The architecture of a LSTM is composed of a forget, input, and output gate and the cell can remember values over arbitrary time intervals. Despite various different and exotic LSTM architectures, the standard LSTM cell is shwon in the figure below:\n",
        "\n",
        "\n",
        "<img src=http://colah.github.io/posts/2015-08-Understanding-LSTMs/img/LSTM3-chain.png width=\"600\">\n",
        "\n"
      ]
    },
    {
      "cell_type": "markdown",
      "metadata": {
        "id": "NnGjZqDDnKmd",
        "colab_type": "text"
      },
      "source": [
        "Compared to a simple RNN the LSTM cell has a hidden vector and an additional cell state vector. __What size does the cell state have?__ <br>\n",
        "The operations inside the LSTM are given as \n",
        "\n",
        "<img src=https://wikimedia.org/api/rest_v1/media/math/render/svg/2db2cba6a0d878e13932fa27ce6f3fb71ad99cf1  width=\"600\">\n",
        " \n",
        "f_t: forget gate,  <br>\n",
        "i_t: input gate, <br>\n",
        "o_t: output gate, <br>\n",
        "h_t: hidden state vector, <br>\n",
        "c_t: cell state vector, <br>\n",
        "x_t: input vector, <br>\n",
        "t is time step, \n",
        "<br> \n",
        "<br> \n",
        "and<br> \n",
        "sigma_g: sigmoid activation <br> \n",
        "sigma_c and sigma_h: hyperbolic tangent function\n"
      ]
    },
    {
      "cell_type": "markdown",
      "metadata": {
        "id": "MNiB1IqknKmg",
        "colab_type": "text"
      },
      "source": [
        "In the next step you should implement your own LSTM with the operations stated above."
      ]
    },
    {
      "cell_type": "code",
      "metadata": {
        "id": "fERUL4uZnKmk",
        "colab_type": "code",
        "colab": {}
      },
      "source": [
        "# ToDo: Implement the RNN class\n",
        "from exercise_code.rnn.rnn_nn import LSTM"
      ],
      "execution_count": 0,
      "outputs": []
    },
    {
      "cell_type": "code",
      "metadata": {
        "id": "zeT3E1R8nKmp",
        "colab_type": "code",
        "outputId": "702695f5-80d2-486b-cf2f-39cf2fda1a33",
        "colab": {
          "base_uri": "https://localhost:8080/",
          "height": 52
        }
      },
      "source": [
        "\n",
        "# choose your input parameters\n",
        "input_size = 3\n",
        "hidden_dim = 3\n",
        "seq_len = 10 \n",
        "\n",
        "# define the two models\n",
        "pytorch_lstm=nn.LSTM(input_size, hidden_dim)\n",
        "i2dl_lstm=LSTM(input_size, hidden_dim)\n",
        "\n",
        "# initialise both lstms with same values\n",
        "for p in pytorch_lstm.parameters():\n",
        "    nn.init.constant_(p, val=0.3)\n",
        "for p in i2dl_lstm.parameters():\n",
        "    nn.init.constant_(p, val=0.3)\n",
        "    \n",
        "X=torch.randn(seq_len, 1, input_size)\n",
        "\n",
        "output_pytorch, (h_pytorch, _) = pytorch_lstm(X)\n",
        "output_i2dl , (h_i2dl, _ )= i2dl_lstm(X)\n",
        "\n",
        "# The difference of outputs should be 0!!\n",
        "diff = torch.sum((output_pytorch-output_i2dl) ** 2)\n",
        "print(\"Differnce between pytorch and your RNN implementation: %s\" % diff.item())\n",
        "if diff.item() < 10 ** -10:\n",
        "    print(\"Cool, you implemented a correct model.\")\n",
        "else:\n",
        "    print(\"Upps! There is something wrong in your model. Try again!\")"
      ],
      "execution_count": 11,
      "outputs": [
        {
          "output_type": "stream",
          "text": [
            "Differnce between pytorch and your RNN implementation: 0.0\n",
            "Cool, you implemented a correct model.\n"
          ],
          "name": "stdout"
        }
      ]
    },
    {
      "cell_type": "code",
      "metadata": {
        "id": "Qzkn1e-BnKmz",
        "colab_type": "code",
        "outputId": "967d0926-c011-43a6-9921-b1d88059b261",
        "colab": {
          "base_uri": "https://localhost:8080/",
          "height": 52
        }
      },
      "source": [
        "import timeit\n",
        "runs=10 ** 4\n",
        "\n",
        "print(\"Time Pytorch LSTM {} runs: {:.3f}s\".format(runs, timeit.timeit(\"pytorch_lstm(X)\", \n",
        "                                       setup=\"from __main__ import pytorch_lstm, X\", \n",
        "                                       number=runs))\n",
        "     )\n",
        "\n",
        "print(\"Time I2DL LSTM {} runs: {:.3f}s\".format(runs, timeit.timeit(\"i2dl_lstm(X)\", \n",
        "                                       setup=\"from __main__ import i2dl_lstm, X\", \n",
        "                                       number=runs))\n",
        "     )"
      ],
      "execution_count": 12,
      "outputs": [
        {
          "output_type": "stream",
          "text": [
            "Time Pytorch LSTM 10000 runs: 5.931s\n",
            "Time I2DL LSTM 10000 runs: 15.327s\n"
          ],
          "name": "stdout"
        }
      ]
    },
    {
      "cell_type": "markdown",
      "metadata": {
        "id": "37clJiU_nKm4",
        "colab_type": "text"
      },
      "source": [
        "## Explore Gradients \n",
        "Analogously to the RNN, calculate the gradients of the input wrt. to the output of the LSTM and compare it against the RNN gradients. __What do you see?__\n"
      ]
    },
    {
      "cell_type": "code",
      "metadata": {
        "id": "6JcOGap2nKm6",
        "colab_type": "code",
        "outputId": "664b3d90-21e6-42c7-91ec-ccf2296948ec",
        "colab": {
          "base_uri": "https://localhost:8080/",
          "height": 513
        }
      },
      "source": [
        "############################################################################\n",
        "# TODO: Define a RNN and LSTM and explore the gradients on the output h_T   #\n",
        "# wrt. the input at time t and plot your result.                           #\n",
        "############################################################################\n",
        "hidden_size = 1\n",
        "input_size = 1\n",
        "time_steps = 50\n",
        "\n",
        "# RNN\n",
        "rnn = nn.RNN(input_size, hidden_size)\n",
        "rand_rnn = torch.randn(time_steps, 1, input_size)\n",
        "rand_rnn.requires_grad = True\n",
        "\n",
        "_, h = rnn(rand_rnn)\n",
        "\n",
        "h.requires_grad\n",
        "h.sum().backward()\n",
        "\n",
        "# LSTM\n",
        "lstm = nn.LSTM(input_size, hidden_size)\n",
        "rand_lstm = torch.randn(time_steps, 1, input_size)\n",
        "rand_lstm.requires_grad = True\n",
        "\n",
        "_, (h, c) = lstm(rand_lstm)\n",
        "\n",
        "h.requires_grad\n",
        "h.sum().backward()\n",
        "\n",
        "plt.semilogy(np.flip(abs(rand_lstm.grad.view(-1).detach().cpu().numpy())),\n",
        "             label=\"LSTM\")\n",
        "plt.semilogy(np.flip(abs(rand_rnn.grad.view(-1).detach().cpu().numpy())),\n",
        "             label=\"RNN\")\n",
        "\n",
        "plt.legend()\n",
        "plt.xlabel(\"Time step t\")\n",
        "plt.ylabel(\"d h_T/d x_t\")\n",
        "plt.title(\"Gradient of output wrt. input\")\n",
        "\n",
        "plt.show()\n",
        "############################################################################\n",
        "#                             END OF YOUR CODE                             #\n",
        "############################################################################"
      ],
      "execution_count": 32,
      "outputs": [
        {
          "output_type": "display_data",
          "data": {
            "image/png": "[encoded data removed]",
            "text/plain": [
              "<Figure size 720x576 with 1 Axes>"
            ]
          },
          "metadata": {
            "tags": []
          }
        }
      ]
    },
    {
      "cell_type": "markdown",
      "metadata": {
        "id": "CaxntYd6nKnB",
        "colab_type": "text"
      },
      "source": [
        "## MNIST image classification with RNNs\n",
        "\n",
        "In the previous exercises we already have classified images with a Fully Connected and Convolutional Network. In this exercise, we will solve the problem of image classification with a recurrent neural network.  \n",
        "\n",
        "For the experiment we use the MNIST handwritten digits dataset which we already know from the autoencoder exercise. This dataset consists of images of the 10 different digits (10 classes). The images have the resolution 28 x 28. The idea for the RNN classifier is to interpret the image as a sequence of rows. This means that we pass the rows through the RNN and use the final hidden state for classification. "
      ]
    },
    {
      "cell_type": "markdown",
      "metadata": {
        "id": "z6nu7lLRnKnF",
        "colab_type": "text"
      },
      "source": [
        "\n",
        "<div class=\"alert alert-info\">\n",
        "    <h3>Note</h3>\n",
        "    <p>\n",
        "    In this semester you have seen three different types of neural networks, namely Multi-Layer Perceptrons (MLPs), Convolutional Neural Networks (CNNs), and now Recurrent Neural Networks (RNNs). We have seen that we can use all three architectures for image classification. However, it turned out that some models are better than others for image classification. Try to think about advantages and disadvantages of the models, regarding # of parameters, transformations of the object in the image (scaling, rotation, translation,...), training time, testing time, over-fitting, etc."
      ]
    },
    {
      "cell_type": "code",
      "metadata": {
        "id": "teIP1gbdnKnG",
        "colab_type": "code",
        "outputId": "ad5ba530-8808-422f-940a-4cd53b3aca62",
        "colab": {
          "base_uri": "https://localhost:8080/",
          "height": 34
        }
      },
      "source": [
        "# Define data loader\n",
        "from torchvision import transforms\n",
        "import pickle\n",
        "from os import path\n",
        "\n",
        "class Unsqueeze(object):\n",
        "    \"\"\"Adds a channel dimension that that our 2 dimensional input (H, W), \n",
        "    fits the 3 dimensional (H, W, C) expectations of pytorch's ToTensor function which\n",
        "    expects a PIL image. This is very inefficient but you most probably will use pytorch's\n",
        "    PIL image loader. Check out the documentation and make it more efficient :)\n",
        "    \"\"\"\n",
        "    def __init__(self, dimension=0):\n",
        "        self.dimension = dimension\n",
        "    def __call__(self, numpy_array):\n",
        "        extended_array = np.expand_dims(numpy_array, self.dimension)\n",
        "        return extended_array\n",
        "    def __repr__(self):\n",
        "        return self.__class__.__name__ + 'dimension={}'.format(dimension)\n",
        "\n",
        "    \n",
        "# transformation of data\n",
        "transform = transforms.Compose([\n",
        "    Unsqueeze(dimension=3),     \n",
        "    transforms.ToTensor(),\n",
        "    transforms.Normalize(mean=(0.5,), std=(0.5,))\n",
        "])\n",
        "\n",
        "\n",
        "class MnistDataset(torch.utils.data.Dataset):\n",
        "    def __init__(self, images, labels, \n",
        "                 transform=None):\n",
        "        super(MnistDataset, self).__init__()\n",
        "        self.images = images\n",
        "        self.labels = labels\n",
        "        self.transform = transform\n",
        "       \n",
        "    def __len__(self):\n",
        "        return len(self.images)\n",
        "    \n",
        "    def __getitem__(self, idx):\n",
        "        image = self.images[idx]\n",
        "        label = self.labels[idx]\n",
        "        if self.transform: \n",
        "            image = self.transform(image)\n",
        "        return image, label\n",
        "\n",
        "    \n",
        "# loading the train data\n",
        "if path.exists(\"../datasets/mnist/mnist_train.p\"):\n",
        "    with open(\"../datasets/mnist/mnist_train.p\", \"rb\") as f:\n",
        "        mnist_raw = pickle.load(f)\n",
        "        print(\"mnist_raw loaded from local\")\n",
        "else:\n",
        "    with open(\"/content/drive/My Drive/datasets/mnist/mnist_train.p\", \"rb\") as f:\n",
        "        mnist_raw = pickle.load(f)\n",
        "        print(\"mnist_raw loaded from remote\")\n",
        "\n",
        "X, y = mnist_raw\n",
        "############################################################################\n",
        "# TODO: Set a useful training/ validation split                            #\n",
        "############################################################################    \n",
        "train_split = 0.7\n",
        "############################################################################\n",
        "#                             END OF YOUR CODE                             #\n",
        "############################################################################\n",
        "\n",
        "\n",
        "train_dset = MnistDataset(X[:int(len(X) * train_split)], y[:int(len(X) * train_split)], transform=transform)\n",
        "val_dset = MnistDataset(X[int(len(X) * train_split):], y[int(len(X) * train_split):], transform=transform)\n"
      ],
      "execution_count": 14,
      "outputs": [
        {
          "output_type": "stream",
          "text": [
            "mnist_raw loaded from remote\n"
          ],
          "name": "stdout"
        }
      ]
    },
    {
      "cell_type": "code",
      "metadata": {
        "id": "8Yxf3E7mnKnM",
        "colab_type": "code",
        "outputId": "bc85ecf4-e0ca-4d89-8147-35cfbb8e33f6",
        "colab": {
          "base_uri": "https://localhost:8080/",
          "height": 454
        }
      },
      "source": [
        "# Visualize some examples from the dataset. Stolen from other notebooks\n",
        "# We show a few examples of training images from each class.\n",
        "X=train_dset.images\n",
        "y=train_dset.labels\n",
        "\n",
        "\n",
        "classes = list(range(10))\n",
        "num_classes = len(classes)\n",
        "samples_per_class = 5\n",
        "for y_hat, cls in enumerate(classes):\n",
        "    idxs = np.flatnonzero(train_dset.labels == y_hat)\n",
        "    idxs = np.random.choice(idxs, samples_per_class, replace=False)\n",
        "    for i, idx in enumerate(idxs):\n",
        "        plt_idx = i * num_classes + y_hat + 1\n",
        "        plt.subplot(samples_per_class, num_classes, plt_idx)\n",
        "        plt.imshow(X[idx])\n",
        "        plt.axis('off')\n",
        "        if i == 0:\n",
        "            plt.title(cls)\n",
        "plt.show()"
      ],
      "execution_count": 15,
      "outputs": [
        {
          "output_type": "display_data",
          "data": {
            "image/png": "[encoded data removed]",
            "text/plain": [
              "<Figure size 720x576 with 50 Axes>"
            ]
          },
          "metadata": {
            "tags": []
          }
        }
      ]
    },
    {
      "cell_type": "markdown",
      "metadata": {
        "id": "t8bwJot9nKnS",
        "colab_type": "text"
      },
      "source": [
        "Build a classifier based on a RNN where you sequentially feed the rows in the network and use the final hidden state for prediction."
      ]
    },
    {
      "cell_type": "markdown",
      "metadata": {
        "id": "C7opuC9cnKnV",
        "colab_type": "text"
      },
      "source": [
        "<img src=https://cdn-images-1.medium.com/max/800/1*Cm_c-I02rBa1rtLZXBhNUw.png width=\"600\">\n"
      ]
    },
    {
      "cell_type": "code",
      "metadata": {
        "id": "7dYVQ-h7nKnZ",
        "colab_type": "code",
        "colab": {}
      },
      "source": [
        "from exercise_code.rnn.rnn_nn import LSTM_Classifier, RNN_Classifier\n",
        "model_rnn = RNN_Classifier()\n",
        "model_lstm = LSTM_Classifier()"
      ],
      "execution_count": 0,
      "outputs": []
    },
    {
      "cell_type": "code",
      "metadata": {
        "id": "a_I0drq2nKnd",
        "colab_type": "code",
        "colab": {}
      },
      "source": [
        "from exercise_code.rnn.solver import Solver"
      ],
      "execution_count": 0,
      "outputs": []
    },
    {
      "cell_type": "code",
      "metadata": {
        "scrolled": false,
        "id": "pPat8sCJnKnj",
        "colab_type": "code",
        "outputId": "620bf81f-a9d4-4758-af25-6831139bfa57",
        "colab": {
          "base_uri": "https://localhost:8080/",
          "height": 1000
        }
      },
      "source": [
        "batch_size = 1024\n",
        "train_loader = torch.utils.data.DataLoader(\n",
        "                 dataset=train_dset,\n",
        "                 batch_size=batch_size,\n",
        "                 shuffle=True)\n",
        "val_loader = torch.utils.data.DataLoader(\n",
        "                dataset=val_dset,\n",
        "                batch_size=batch_size,\n",
        "                shuffle=False)\n",
        "\n",
        "solver = Solver(optim_args={\"lr\": 1e-3}, stop_early=False)\n",
        "\n",
        "train_rnn = True\n",
        "train_lstm = False\n",
        "save_model = False\n",
        "\n",
        "if train_rnn:\n",
        "    # train rnn model\n",
        "    print(\"Training the RNN\")\n",
        "    print(\"--------------------------------\")\n",
        "    best_net = solver.train(model_rnn, train_loader, val_loader, \n",
        "                            log_nth=200, num_epochs=500)\n",
        "    if save_model:\n",
        "        best_net.save(\"models/rnn_mnist_nn.model\")\n",
        "    print(\"--------------------------------\")\n",
        "if train_lstm:\n",
        "    # train lstm model\n",
        "    print(\"Training the LSTM\")\n",
        "    print(\"--------------------------------\")\n",
        "    best_net = solver.train(model_lstm, train_loader, val_loader, \n",
        "                            log_nth=200, num_epochs=500)\n",
        "    print(\"--------------------------------\")"
      ],
      "execution_count": 96,
      "outputs": [
        {
          "output_type": "stream",
          "text": [
            "Training the RNN\n",
            "--------------------------------\n",
            "Early stopping deactivated.\n",
            "START TRAIN.\n"
          ],
          "name": "stdout"
        },
        {
          "output_type": "stream",
          "text": [
            "/usr/local/lib/python3.6/dist-packages/ipykernel_launcher.py:14: DeprecationWarning: Both axis > a.ndim and axis < -a.ndim - 1 are deprecated and will raise an AxisError in the future.\n",
            "  \n"
          ],
          "name": "stderr"
        },
        {
          "output_type": "stream",
          "text": [
            "[Epoch 1/500] VAL   acc/loss: 97.90/0.126\n",
            "New best validition accuracy: 97.89\n",
            "[Epoch 2/500] VAL   acc/loss: 98.05/0.120\n",
            "New best validition accuracy: 98.05\n",
            "[Epoch 3/500] VAL   acc/loss: 98.12/0.110\n",
            "New best validition accuracy: 98.11\n",
            "[Epoch 4/500] VAL   acc/loss: 98.00/0.120\n",
            "[Epoch 5/500] VAL   acc/loss: 98.13/0.121\n",
            "New best validition accuracy: 98.13\n",
            "[Epoch 6/500] VAL   acc/loss: 97.86/0.132\n",
            "[Epoch 7/500] VAL   acc/loss: 97.66/0.135\n",
            "[Epoch 8/500] VAL   acc/loss: 97.59/0.151\n",
            "[Epoch 9/500] VAL   acc/loss: 97.47/0.133\n",
            "[Epoch 10/500] VAL   acc/loss: 97.97/0.122\n",
            "[Epoch 11/500] VAL   acc/loss: 97.91/0.118\n",
            "[Epoch 12/500] VAL   acc/loss: 97.81/0.121\n",
            "[Epoch 13/500] VAL   acc/loss: 98.06/0.115\n",
            "[Epoch 14/500] VAL   acc/loss: 98.12/0.109\n",
            "[Epoch 15/500] VAL   acc/loss: 98.18/0.115\n",
            "New best validition accuracy: 98.17\n",
            "[Epoch 16/500] VAL   acc/loss: 98.17/0.117\n",
            "[Epoch 17/500] VAL   acc/loss: 98.15/0.121\n",
            "[Epoch 18/500] VAL   acc/loss: 98.16/0.122\n",
            "[Epoch 19/500] VAL   acc/loss: 98.14/0.125\n",
            "[Epoch 20/500] VAL   acc/loss: 98.17/0.125\n",
            "[Epoch 21/500] VAL   acc/loss: 98.14/0.126\n",
            "[Epoch 22/500] VAL   acc/loss: 98.19/0.129\n",
            "New best validition accuracy: 98.19\n",
            "[Epoch 23/500] VAL   acc/loss: 98.13/0.131\n",
            "[Epoch 24/500] VAL   acc/loss: 98.23/0.128\n",
            "New best validition accuracy: 98.23\n",
            "[Epoch 25/500] VAL   acc/loss: 98.20/0.130\n",
            "[Epoch 26/500] VAL   acc/loss: 98.20/0.132\n",
            "[Epoch 27/500] VAL   acc/loss: 98.18/0.133\n",
            "[Epoch 28/500] VAL   acc/loss: 98.21/0.134\n",
            "[Epoch 29/500] VAL   acc/loss: 98.17/0.135\n",
            "[Epoch 30/500] VAL   acc/loss: 98.14/0.138\n",
            "[Epoch 31/500] VAL   acc/loss: 98.17/0.140\n",
            "[Epoch 32/500] VAL   acc/loss: 98.17/0.140\n",
            "[Epoch 33/500] VAL   acc/loss: 98.17/0.142\n",
            "[Epoch 34/500] VAL   acc/loss: 98.16/0.144\n",
            "[Epoch 35/500] VAL   acc/loss: 98.13/0.144\n",
            "[Epoch 36/500] VAL   acc/loss: 98.18/0.146\n",
            "[Epoch 37/500] VAL   acc/loss: 98.13/0.148\n",
            "[Epoch 38/500] VAL   acc/loss: 98.13/0.148\n",
            "[Epoch 39/500] VAL   acc/loss: 98.15/0.147\n",
            "[Epoch 40/500] VAL   acc/loss: 98.18/0.152\n",
            "[Epoch 41/500] VAL   acc/loss: 98.17/0.151\n",
            "[Epoch 42/500] VAL   acc/loss: 98.14/0.150\n",
            "[Epoch 43/500] VAL   acc/loss: 98.15/0.153\n",
            "[Epoch 44/500] VAL   acc/loss: 98.17/0.154\n",
            "[Epoch 45/500] VAL   acc/loss: 98.12/0.155\n",
            "[Epoch 46/500] VAL   acc/loss: 98.15/0.157\n",
            "[Epoch 47/500] VAL   acc/loss: 98.14/0.157\n",
            "[Epoch 48/500] VAL   acc/loss: 98.12/0.158\n",
            "[Epoch 49/500] VAL   acc/loss: 98.14/0.159\n",
            "[Epoch 50/500] VAL   acc/loss: 98.13/0.161\n",
            "[Epoch 51/500] VAL   acc/loss: 98.11/0.161\n",
            "[Epoch 52/500] VAL   acc/loss: 98.14/0.163\n",
            "[Epoch 53/500] VAL   acc/loss: 98.14/0.163\n",
            "[Epoch 54/500] VAL   acc/loss: 98.12/0.165\n",
            "[Epoch 55/500] VAL   acc/loss: 98.13/0.165\n",
            "[Epoch 56/500] VAL   acc/loss: 98.15/0.167\n",
            "[Epoch 57/500] VAL   acc/loss: 98.14/0.168\n",
            "[Epoch 58/500] VAL   acc/loss: 98.14/0.168\n",
            "[Epoch 59/500] VAL   acc/loss: 98.14/0.170\n",
            "[Epoch 60/500] VAL   acc/loss: 98.14/0.170\n",
            "[Epoch 61/500] VAL   acc/loss: 98.13/0.171\n",
            "[Epoch 62/500] VAL   acc/loss: 98.12/0.173\n",
            "[Epoch 63/500] VAL   acc/loss: 98.15/0.173\n",
            "[Epoch 64/500] VAL   acc/loss: 98.15/0.174\n",
            "[Epoch 65/500] VAL   acc/loss: 98.16/0.174\n",
            "[Epoch 66/500] VAL   acc/loss: 98.17/0.174\n",
            "[Epoch 67/500] VAL   acc/loss: 98.16/0.176\n",
            "[Epoch 68/500] VAL   acc/loss: 98.15/0.176\n",
            "[Epoch 69/500] VAL   acc/loss: 98.16/0.178\n",
            "[Epoch 70/500] VAL   acc/loss: 98.13/0.178\n",
            "[Epoch 71/500] VAL   acc/loss: 98.13/0.179\n",
            "[Epoch 72/500] VAL   acc/loss: 98.16/0.180\n",
            "[Epoch 73/500] VAL   acc/loss: 98.15/0.180\n",
            "[Epoch 74/500] VAL   acc/loss: 98.15/0.181\n",
            "[Epoch 75/500] VAL   acc/loss: 98.14/0.182\n",
            "[Epoch 76/500] VAL   acc/loss: 98.14/0.183\n",
            "[Epoch 77/500] VAL   acc/loss: 98.13/0.184\n",
            "[Epoch 78/500] VAL   acc/loss: 98.13/0.184\n",
            "[Epoch 79/500] VAL   acc/loss: 98.13/0.186\n",
            "[Epoch 80/500] VAL   acc/loss: 98.13/0.185\n",
            "[Epoch 81/500] VAL   acc/loss: 98.14/0.186\n",
            "[Epoch 82/500] VAL   acc/loss: 98.14/0.188\n",
            "[Epoch 83/500] VAL   acc/loss: 98.15/0.188\n",
            "[Epoch 84/500] VAL   acc/loss: 98.12/0.190\n",
            "[Epoch 85/500] VAL   acc/loss: 98.13/0.190\n",
            "[Epoch 86/500] VAL   acc/loss: 98.14/0.190\n",
            "[Epoch 87/500] VAL   acc/loss: 98.12/0.191\n",
            "[Epoch 88/500] VAL   acc/loss: 98.13/0.191\n",
            "[Epoch 89/500] VAL   acc/loss: 98.13/0.193\n",
            "[Epoch 90/500] VAL   acc/loss: 98.12/0.193\n",
            "[Epoch 91/500] VAL   acc/loss: 98.13/0.194\n",
            "[Epoch 92/500] VAL   acc/loss: 98.12/0.196\n",
            "[Epoch 93/500] VAL   acc/loss: 98.06/0.192\n",
            "[Epoch 94/500] VAL   acc/loss: 96.97/0.124\n",
            "[Epoch 95/500] VAL   acc/loss: 96.87/0.132\n",
            "[Epoch 96/500] VAL   acc/loss: 97.53/0.092\n",
            "[Epoch 97/500] VAL   acc/loss: 97.32/0.107\n",
            "[Epoch 98/500] VAL   acc/loss: 97.68/0.089\n",
            "[Epoch 99/500] VAL   acc/loss: 97.90/0.087\n",
            "[Epoch 100/500] VAL   acc/loss: 97.88/0.093\n",
            "[Epoch 101/500] VAL   acc/loss: 96.91/0.136\n",
            "[Epoch 102/500] VAL   acc/loss: 97.41/0.104\n",
            "[Epoch 103/500] VAL   acc/loss: 97.75/0.092\n",
            "[Epoch 104/500] VAL   acc/loss: 97.75/0.097\n",
            "[Epoch 105/500] VAL   acc/loss: 97.86/0.088\n",
            "[Epoch 106/500] VAL   acc/loss: 97.91/0.087\n",
            "[Epoch 107/500] VAL   acc/loss: 97.86/0.084\n",
            "[Epoch 108/500] VAL   acc/loss: 97.95/0.092\n",
            "[Epoch 109/500] VAL   acc/loss: 97.99/0.089\n",
            "[Epoch 110/500] VAL   acc/loss: 97.94/0.086\n",
            "[Epoch 111/500] VAL   acc/loss: 98.00/0.089\n",
            "[Epoch 112/500] VAL   acc/loss: 98.15/0.087\n",
            "[Epoch 113/500] VAL   acc/loss: 98.13/0.090\n",
            "[Epoch 114/500] VAL   acc/loss: 98.09/0.095\n",
            "[Epoch 115/500] VAL   acc/loss: 98.16/0.095\n",
            "[Epoch 116/500] VAL   acc/loss: 98.04/0.100\n",
            "[Epoch 117/500] VAL   acc/loss: 98.10/0.104\n",
            "[Epoch 118/500] VAL   acc/loss: 98.10/0.105\n",
            "[Epoch 119/500] VAL   acc/loss: 98.10/0.104\n",
            "[Epoch 120/500] VAL   acc/loss: 98.15/0.105\n",
            "[Epoch 121/500] VAL   acc/loss: 98.11/0.108\n",
            "[Epoch 122/500] VAL   acc/loss: 98.08/0.111\n",
            "[Epoch 123/500] VAL   acc/loss: 98.09/0.114\n",
            "[Epoch 124/500] VAL   acc/loss: 98.09/0.116\n",
            "[Epoch 125/500] VAL   acc/loss: 98.10/0.116\n",
            "[Epoch 126/500] VAL   acc/loss: 98.07/0.119\n",
            "[Epoch 127/500] VAL   acc/loss: 98.10/0.120\n",
            "[Epoch 128/500] VAL   acc/loss: 97.72/0.150\n",
            "[Epoch 129/500] VAL   acc/loss: 97.61/0.111\n",
            "[Epoch 130/500] VAL   acc/loss: 97.65/0.126\n",
            "[Epoch 131/500] VAL   acc/loss: 97.92/0.105\n",
            "[Epoch 132/500] VAL   acc/loss: 97.58/0.120\n",
            "[Epoch 133/500] VAL   acc/loss: 97.82/0.098\n",
            "[Epoch 134/500] VAL   acc/loss: 98.04/0.086\n",
            "[Epoch 135/500] VAL   acc/loss: 98.17/0.091\n",
            "[Epoch 136/500] VAL   acc/loss: 98.10/0.090\n",
            "[Epoch 137/500] VAL   acc/loss: 98.21/0.089\n",
            "[Epoch 138/500] VAL   acc/loss: 98.16/0.098\n",
            "[Epoch 139/500] VAL   acc/loss: 98.23/0.097\n",
            "New best validition accuracy: 98.23\n",
            "[Epoch 140/500] VAL   acc/loss: 98.32/0.100\n",
            "New best validition accuracy: 98.31\n",
            "[Epoch 141/500] VAL   acc/loss: 98.20/0.106\n",
            "[Epoch 142/500] VAL   acc/loss: 98.27/0.105\n",
            "[Epoch 143/500] VAL   acc/loss: 98.24/0.108\n",
            "[Epoch 144/500] VAL   acc/loss: 98.21/0.111\n",
            "[Epoch 145/500] VAL   acc/loss: 98.21/0.112\n",
            "[Epoch 146/500] VAL   acc/loss: 98.26/0.109\n",
            "[Epoch 147/500] VAL   acc/loss: 98.21/0.110\n",
            "[Epoch 148/500] VAL   acc/loss: 98.22/0.113\n",
            "[Epoch 149/500] VAL   acc/loss: 98.18/0.117\n",
            "[Epoch 150/500] VAL   acc/loss: 98.17/0.123\n",
            "[Epoch 151/500] VAL   acc/loss: 97.64/0.131\n",
            "[Epoch 152/500] VAL   acc/loss: 97.88/0.098\n",
            "[Epoch 153/500] VAL   acc/loss: 97.98/0.111\n",
            "[Epoch 154/500] VAL   acc/loss: 97.66/0.137\n",
            "[Epoch 155/500] VAL   acc/loss: 98.03/0.105\n",
            "[Epoch 156/500] VAL   acc/loss: 98.10/0.096\n",
            "[Epoch 157/500] VAL   acc/loss: 97.95/0.108\n",
            "[Epoch 158/500] VAL   acc/loss: 98.12/0.103\n",
            "[Epoch 159/500] VAL   acc/loss: 98.17/0.103\n",
            "[Epoch 160/500] VAL   acc/loss: 98.03/0.117\n",
            "[Epoch 161/500] VAL   acc/loss: 98.11/0.112\n",
            "[Epoch 162/500] VAL   acc/loss: 98.16/0.098\n",
            "[Epoch 163/500] VAL   acc/loss: 98.26/0.100\n",
            "[Epoch 164/500] VAL   acc/loss: 98.14/0.106\n",
            "[Epoch 165/500] VAL   acc/loss: 98.14/0.107\n",
            "[Epoch 166/500] VAL   acc/loss: 98.25/0.110\n",
            "[Epoch 167/500] VAL   acc/loss: 98.28/0.112\n",
            "[Epoch 168/500] VAL   acc/loss: 97.87/0.134\n",
            "[Epoch 169/500] VAL   acc/loss: 97.99/0.122\n",
            "[Epoch 170/500] VAL   acc/loss: 97.85/0.123\n",
            "[Epoch 171/500] VAL   acc/loss: 97.91/0.124\n",
            "[Epoch 172/500] VAL   acc/loss: 97.81/0.125\n",
            "[Epoch 173/500] VAL   acc/loss: 97.94/0.103\n",
            "[Epoch 174/500] VAL   acc/loss: 97.98/0.114\n",
            "[Epoch 175/500] VAL   acc/loss: 98.11/0.106\n",
            "[Epoch 176/500] VAL   acc/loss: 98.27/0.105\n",
            "[Epoch 177/500] VAL   acc/loss: 98.31/0.106\n",
            "[Epoch 178/500] VAL   acc/loss: 98.32/0.109\n",
            "[Epoch 179/500] VAL   acc/loss: 98.31/0.110\n",
            "[Epoch 180/500] VAL   acc/loss: 98.31/0.111\n",
            "[Epoch 181/500] VAL   acc/loss: 98.32/0.112\n",
            "New best validition accuracy: 98.32\n",
            "[Epoch 182/500] VAL   acc/loss: 98.29/0.113\n",
            "[Epoch 183/500] VAL   acc/loss: 98.30/0.115\n",
            "[Epoch 184/500] VAL   acc/loss: 98.32/0.115\n",
            "[Epoch 185/500] VAL   acc/loss: 98.29/0.117\n",
            "[Epoch 186/500] VAL   acc/loss: 98.31/0.117\n",
            "[Epoch 187/500] VAL   acc/loss: 98.32/0.118\n",
            "[Epoch 188/500] VAL   acc/loss: 98.33/0.119\n",
            "New best validition accuracy: 98.33\n",
            "[Epoch 189/500] VAL   acc/loss: 98.33/0.120\n",
            "[Epoch 190/500] VAL   acc/loss: 98.32/0.121\n",
            "[Epoch 191/500] VAL   acc/loss: 98.29/0.121\n",
            "[Epoch 192/500] VAL   acc/loss: 98.29/0.122\n",
            "[Epoch 193/500] VAL   acc/loss: 98.30/0.122\n",
            "[Epoch 194/500] VAL   acc/loss: 98.29/0.124\n",
            "[Epoch 195/500] VAL   acc/loss: 98.30/0.125\n",
            "[Epoch 196/500] VAL   acc/loss: 98.30/0.125\n",
            "[Epoch 197/500] VAL   acc/loss: 98.28/0.127\n",
            "[Epoch 198/500] VAL   acc/loss: 98.29/0.125\n",
            "[Epoch 199/500] VAL   acc/loss: 98.33/0.126\n",
            "[Epoch 200/500] VAL   acc/loss: 98.30/0.127\n",
            "[Epoch 201/500] VAL   acc/loss: 98.30/0.128\n",
            "[Epoch 202/500] VAL   acc/loss: 98.31/0.130\n",
            "[Epoch 203/500] VAL   acc/loss: 98.31/0.130\n",
            "[Epoch 204/500] VAL   acc/loss: 98.32/0.131\n",
            "[Epoch 205/500] VAL   acc/loss: 98.34/0.131\n",
            "New best validition accuracy: 98.33\n",
            "[Epoch 206/500] VAL   acc/loss: 98.33/0.132\n",
            "[Epoch 207/500] VAL   acc/loss: 98.33/0.133\n",
            "[Epoch 208/500] VAL   acc/loss: 98.34/0.133\n",
            "[Epoch 209/500] VAL   acc/loss: 98.34/0.133\n",
            "New best validition accuracy: 98.34\n",
            "[Epoch 210/500] VAL   acc/loss: 98.33/0.134\n",
            "[Epoch 211/500] VAL   acc/loss: 98.34/0.135\n",
            "[Epoch 212/500] VAL   acc/loss: 98.33/0.136\n",
            "[Epoch 213/500] VAL   acc/loss: 98.33/0.137\n",
            "[Epoch 214/500] VAL   acc/loss: 98.33/0.137\n",
            "[Epoch 215/500] VAL   acc/loss: 98.33/0.138\n",
            "[Epoch 216/500] VAL   acc/loss: 98.33/0.138\n",
            "[Epoch 217/500] VAL   acc/loss: 98.38/0.136\n",
            "New best validition accuracy: 98.37\n",
            "[Epoch 218/500] VAL   acc/loss: 98.34/0.138\n",
            "[Epoch 219/500] VAL   acc/loss: 98.35/0.139\n",
            "[Epoch 220/500] VAL   acc/loss: 98.35/0.139\n",
            "[Epoch 221/500] VAL   acc/loss: 98.36/0.141\n",
            "[Epoch 222/500] VAL   acc/loss: 98.36/0.141\n",
            "[Epoch 223/500] VAL   acc/loss: 98.36/0.142\n",
            "[Epoch 224/500] VAL   acc/loss: 98.36/0.142\n",
            "[Epoch 225/500] VAL   acc/loss: 98.37/0.143\n",
            "[Epoch 226/500] VAL   acc/loss: 98.38/0.144\n",
            "[Epoch 227/500] VAL   acc/loss: 98.37/0.144\n",
            "[Epoch 228/500] VAL   acc/loss: 98.33/0.146\n",
            "[Epoch 229/500] VAL   acc/loss: 95.20/0.202\n",
            "[Epoch 230/500] VAL   acc/loss: 96.75/0.131\n",
            "[Epoch 231/500] VAL   acc/loss: 97.43/0.103\n",
            "[Epoch 232/500] VAL   acc/loss: 97.41/0.108\n",
            "[Epoch 233/500] VAL   acc/loss: 97.73/0.106\n",
            "[Epoch 234/500] VAL   acc/loss: 98.01/0.097\n",
            "[Epoch 235/500] VAL   acc/loss: 97.46/0.136\n",
            "[Epoch 236/500] VAL   acc/loss: 97.79/0.099\n",
            "[Epoch 237/500] VAL   acc/loss: 98.05/0.093\n",
            "[Epoch 238/500] VAL   acc/loss: 98.19/0.099\n",
            "[Epoch 239/500] VAL   acc/loss: 98.21/0.091\n",
            "[Epoch 240/500] VAL   acc/loss: 98.17/0.099\n",
            "[Epoch 241/500] VAL   acc/loss: 97.74/0.120\n",
            "[Epoch 242/500] VAL   acc/loss: 97.70/0.107\n",
            "[Epoch 243/500] VAL   acc/loss: 98.06/0.098\n",
            "[Epoch 244/500] VAL   acc/loss: 98.12/0.096\n",
            "[Epoch 245/500] VAL   acc/loss: 98.18/0.096\n",
            "[Epoch 246/500] VAL   acc/loss: 98.07/0.102\n",
            "[Epoch 247/500] VAL   acc/loss: 98.17/0.093\n",
            "[Epoch 248/500] VAL   acc/loss: 98.27/0.100\n",
            "[Epoch 249/500] VAL   acc/loss: 98.24/0.105\n",
            "[Epoch 250/500] VAL   acc/loss: 98.05/0.111\n",
            "[Epoch 251/500] VAL   acc/loss: 97.93/0.107\n",
            "[Epoch 252/500] VAL   acc/loss: 98.06/0.111\n",
            "[Epoch 253/500] VAL   acc/loss: 98.18/0.108\n",
            "[Epoch 254/500] VAL   acc/loss: 98.23/0.106\n",
            "[Epoch 255/500] VAL   acc/loss: 98.14/0.114\n",
            "[Epoch 256/500] VAL   acc/loss: 98.17/0.114\n",
            "[Epoch 257/500] VAL   acc/loss: 98.21/0.117\n",
            "[Epoch 258/500] VAL   acc/loss: 98.23/0.121\n",
            "[Epoch 259/500] VAL   acc/loss: 98.22/0.122\n",
            "[Epoch 260/500] VAL   acc/loss: 98.21/0.124\n",
            "[Epoch 261/500] VAL   acc/loss: 98.23/0.125\n",
            "[Epoch 262/500] VAL   acc/loss: 98.24/0.125\n",
            "[Epoch 263/500] VAL   acc/loss: 98.22/0.127\n",
            "[Epoch 264/500] VAL   acc/loss: 98.22/0.128\n",
            "[Epoch 265/500] VAL   acc/loss: 98.23/0.129\n",
            "[Epoch 266/500] VAL   acc/loss: 98.24/0.130\n",
            "[Epoch 267/500] VAL   acc/loss: 98.24/0.131\n",
            "[Epoch 268/500] VAL   acc/loss: 98.22/0.132\n",
            "[Epoch 269/500] VAL   acc/loss: 98.24/0.133\n",
            "[Epoch 270/500] VAL   acc/loss: 98.23/0.134\n",
            "[Epoch 271/500] VAL   acc/loss: 98.25/0.134\n",
            "[Epoch 272/500] VAL   acc/loss: 98.25/0.135\n",
            "[Epoch 273/500] VAL   acc/loss: 98.25/0.136\n",
            "[Epoch 274/500] VAL   acc/loss: 98.25/0.137\n",
            "[Epoch 275/500] VAL   acc/loss: 98.25/0.138\n",
            "[Epoch 276/500] VAL   acc/loss: 98.26/0.139\n",
            "[Epoch 277/500] VAL   acc/loss: 98.25/0.139\n",
            "[Epoch 278/500] VAL   acc/loss: 98.25/0.141\n",
            "[Epoch 279/500] VAL   acc/loss: 98.24/0.141\n",
            "[Epoch 280/500] VAL   acc/loss: 98.25/0.142\n",
            "[Epoch 281/500] VAL   acc/loss: 98.25/0.143\n",
            "[Epoch 282/500] VAL   acc/loss: 98.25/0.143\n",
            "[Epoch 283/500] VAL   acc/loss: 98.25/0.144\n",
            "[Epoch 284/500] VAL   acc/loss: 98.24/0.144\n",
            "[Epoch 285/500] VAL   acc/loss: 98.25/0.145\n",
            "[Epoch 286/500] VAL   acc/loss: 98.24/0.145\n",
            "[Epoch 287/500] VAL   acc/loss: 98.25/0.146\n",
            "[Epoch 288/500] VAL   acc/loss: 98.23/0.147\n",
            "[Epoch 289/500] VAL   acc/loss: 98.25/0.147\n",
            "[Epoch 290/500] VAL   acc/loss: 98.25/0.148\n",
            "[Epoch 291/500] VAL   acc/loss: 98.26/0.149\n",
            "[Epoch 292/500] VAL   acc/loss: 98.25/0.149\n",
            "[Epoch 293/500] VAL   acc/loss: 98.26/0.150\n",
            "[Epoch 294/500] VAL   acc/loss: 98.25/0.150\n",
            "[Epoch 295/500] VAL   acc/loss: 98.25/0.151\n",
            "[Epoch 296/500] VAL   acc/loss: 98.27/0.152\n",
            "[Epoch 297/500] VAL   acc/loss: 98.26/0.152\n",
            "[Epoch 298/500] VAL   acc/loss: 98.26/0.153\n",
            "[Epoch 299/500] VAL   acc/loss: 98.28/0.153\n",
            "[Epoch 300/500] VAL   acc/loss: 98.26/0.154\n",
            "[Epoch 301/500] VAL   acc/loss: 98.25/0.154\n",
            "[Epoch 302/500] VAL   acc/loss: 98.25/0.155\n",
            "[Epoch 303/500] VAL   acc/loss: 98.25/0.156\n",
            "[Epoch 304/500] VAL   acc/loss: 98.26/0.157\n",
            "[Epoch 305/500] VAL   acc/loss: 98.26/0.157\n",
            "[Epoch 306/500] VAL   acc/loss: 98.26/0.158\n",
            "[Epoch 307/500] VAL   acc/loss: 98.26/0.158\n",
            "[Epoch 308/500] VAL   acc/loss: 98.25/0.159\n",
            "[Epoch 309/500] VAL   acc/loss: 98.26/0.160\n",
            "[Epoch 310/500] VAL   acc/loss: 98.26/0.160\n",
            "[Epoch 311/500] VAL   acc/loss: 98.26/0.161\n",
            "[Epoch 312/500] VAL   acc/loss: 98.26/0.161\n",
            "[Epoch 313/500] VAL   acc/loss: 98.29/0.162\n",
            "[Epoch 314/500] VAL   acc/loss: 98.27/0.162\n",
            "[Epoch 315/500] VAL   acc/loss: 98.28/0.162\n",
            "[Epoch 316/500] VAL   acc/loss: 94.23/0.336\n",
            "[Epoch 317/500] VAL   acc/loss: 96.55/0.142\n",
            "[Epoch 318/500] VAL   acc/loss: 97.43/0.101\n",
            "[Epoch 319/500] VAL   acc/loss: 97.65/0.094\n",
            "[Epoch 320/500] VAL   acc/loss: 97.99/0.088\n",
            "[Epoch 321/500] VAL   acc/loss: 97.90/0.099\n",
            "[Epoch 322/500] VAL   acc/loss: 98.02/0.092\n",
            "[Epoch 323/500] VAL   acc/loss: 98.05/0.093\n",
            "[Epoch 324/500] VAL   acc/loss: 98.01/0.102\n",
            "[Epoch 325/500] VAL   acc/loss: 98.09/0.102\n",
            "[Epoch 326/500] VAL   acc/loss: 98.14/0.094\n",
            "[Epoch 327/500] VAL   acc/loss: 98.11/0.096\n",
            "[Epoch 328/500] VAL   acc/loss: 98.09/0.107\n",
            "[Epoch 329/500] VAL   acc/loss: 97.93/0.097\n",
            "[Epoch 330/500] VAL   acc/loss: 97.94/0.110\n",
            "[Epoch 331/500] VAL   acc/loss: 98.20/0.098\n",
            "[Epoch 332/500] VAL   acc/loss: 98.00/0.107\n",
            "[Epoch 333/500] VAL   acc/loss: 97.84/0.114\n",
            "[Epoch 334/500] VAL   acc/loss: 96.94/0.150\n",
            "[Epoch 335/500] VAL   acc/loss: 98.05/0.100\n",
            "[Epoch 336/500] VAL   acc/loss: 98.07/0.106\n",
            "[Epoch 337/500] VAL   acc/loss: 98.03/0.109\n",
            "[Epoch 338/500] VAL   acc/loss: 98.25/0.098\n",
            "[Epoch 339/500] VAL   acc/loss: 98.26/0.104\n",
            "[Epoch 340/500] VAL   acc/loss: 98.26/0.101\n",
            "[Epoch 341/500] VAL   acc/loss: 98.34/0.105\n",
            "[Epoch 342/500] VAL   acc/loss: 98.34/0.107\n",
            "[Epoch 343/500] VAL   acc/loss: 98.29/0.109\n",
            "[Epoch 344/500] VAL   acc/loss: 98.35/0.110\n",
            "[Epoch 345/500] VAL   acc/loss: 98.36/0.115\n",
            "[Epoch 346/500] VAL   acc/loss: 98.38/0.113\n",
            "New best validition accuracy: 98.38\n",
            "[Epoch 347/500] VAL   acc/loss: 98.25/0.120\n",
            "[Epoch 348/500] VAL   acc/loss: 98.09/0.115\n",
            "[Epoch 349/500] VAL   acc/loss: 98.05/0.104\n",
            "[Epoch 350/500] VAL   acc/loss: 98.08/0.102\n",
            "[Epoch 351/500] VAL   acc/loss: 98.21/0.098\n",
            "[Epoch 352/500] VAL   acc/loss: 98.21/0.110\n",
            "[Epoch 353/500] VAL   acc/loss: 98.28/0.111\n",
            "[Epoch 354/500] VAL   acc/loss: 98.35/0.110\n",
            "[Epoch 355/500] VAL   acc/loss: 98.33/0.112\n",
            "[Epoch 356/500] VAL   acc/loss: 98.35/0.114\n",
            "[Epoch 357/500] VAL   acc/loss: 98.33/0.115\n",
            "[Epoch 358/500] VAL   acc/loss: 98.36/0.118\n",
            "[Epoch 359/500] VAL   acc/loss: 98.34/0.119\n",
            "[Epoch 360/500] VAL   acc/loss: 98.35/0.121\n",
            "[Epoch 361/500] VAL   acc/loss: 98.34/0.122\n",
            "[Epoch 362/500] VAL   acc/loss: 98.34/0.123\n",
            "[Epoch 363/500] VAL   acc/loss: 98.35/0.124\n",
            "[Epoch 364/500] VAL   acc/loss: 98.35/0.125\n",
            "[Epoch 365/500] VAL   acc/loss: 98.35/0.126\n",
            "[Epoch 366/500] VAL   acc/loss: 98.34/0.127\n",
            "[Epoch 367/500] VAL   acc/loss: 98.34/0.128\n",
            "[Epoch 368/500] VAL   acc/loss: 98.33/0.130\n",
            "[Epoch 369/500] VAL   acc/loss: 98.31/0.131\n",
            "[Epoch 370/500] VAL   acc/loss: 98.31/0.132\n",
            "[Epoch 371/500] VAL   acc/loss: 98.31/0.133\n",
            "[Epoch 372/500] VAL   acc/loss: 98.30/0.134\n",
            "[Epoch 373/500] VAL   acc/loss: 98.30/0.135\n",
            "[Epoch 374/500] VAL   acc/loss: 98.31/0.136\n",
            "[Epoch 375/500] VAL   acc/loss: 98.30/0.137\n",
            "[Epoch 376/500] VAL   acc/loss: 98.29/0.139\n",
            "[Epoch 377/500] VAL   acc/loss: 98.31/0.139\n",
            "[Epoch 378/500] VAL   acc/loss: 98.33/0.139\n",
            "[Epoch 379/500] VAL   acc/loss: 98.32/0.140\n",
            "[Epoch 380/500] VAL   acc/loss: 98.32/0.141\n",
            "[Epoch 381/500] VAL   acc/loss: 98.33/0.142\n",
            "[Epoch 382/500] VAL   acc/loss: 98.31/0.144\n",
            "[Epoch 383/500] VAL   acc/loss: 98.32/0.144\n",
            "[Epoch 384/500] VAL   acc/loss: 98.32/0.146\n",
            "[Epoch 385/500] VAL   acc/loss: 98.34/0.146\n",
            "[Epoch 386/500] VAL   acc/loss: 98.31/0.147\n",
            "[Epoch 387/500] VAL   acc/loss: 98.30/0.149\n",
            "[Epoch 388/500] VAL   acc/loss: 98.32/0.150\n",
            "[Epoch 389/500] VAL   acc/loss: 98.31/0.152\n",
            "[Epoch 390/500] VAL   acc/loss: 98.32/0.150\n",
            "[Epoch 391/500] VAL   acc/loss: 98.28/0.153\n",
            "[Epoch 392/500] VAL   acc/loss: 98.28/0.154\n",
            "[Epoch 393/500] VAL   acc/loss: 98.27/0.155\n",
            "[Epoch 394/500] VAL   acc/loss: 98.29/0.156\n",
            "[Epoch 395/500] VAL   acc/loss: 98.29/0.158\n",
            "[Epoch 396/500] VAL   acc/loss: 98.29/0.159\n",
            "[Epoch 397/500] VAL   acc/loss: 98.28/0.159\n",
            "[Epoch 398/500] VAL   acc/loss: 98.30/0.160\n",
            "[Epoch 399/500] VAL   acc/loss: 98.27/0.162\n",
            "[Epoch 400/500] VAL   acc/loss: 98.28/0.161\n",
            "[Epoch 401/500] VAL   acc/loss: 98.28/0.163\n",
            "[Epoch 402/500] VAL   acc/loss: 98.30/0.162\n",
            "[Epoch 403/500] VAL   acc/loss: 98.29/0.165\n",
            "[Epoch 404/500] VAL   acc/loss: 98.29/0.164\n",
            "[Epoch 405/500] VAL   acc/loss: 98.27/0.167\n",
            "[Epoch 406/500] VAL   acc/loss: 98.29/0.166\n",
            "[Epoch 407/500] VAL   acc/loss: 98.27/0.169\n",
            "[Epoch 408/500] VAL   acc/loss: 98.29/0.167\n",
            "[Epoch 409/500] VAL   acc/loss: 98.27/0.169\n",
            "[Epoch 410/500] VAL   acc/loss: 98.28/0.171\n",
            "[Epoch 411/500] VAL   acc/loss: 98.28/0.170\n",
            "[Epoch 412/500] VAL   acc/loss: 98.27/0.172\n",
            "[Epoch 413/500] VAL   acc/loss: 98.29/0.172\n",
            "[Epoch 414/500] VAL   acc/loss: 98.29/0.171\n",
            "[Epoch 415/500] VAL   acc/loss: 98.30/0.172\n",
            "[Epoch 416/500] VAL   acc/loss: 98.28/0.175\n",
            "[Epoch 417/500] VAL   acc/loss: 98.29/0.174\n",
            "[Epoch 418/500] VAL   acc/loss: 98.29/0.174\n",
            "[Epoch 419/500] VAL   acc/loss: 98.28/0.173\n",
            "[Epoch 420/500] VAL   acc/loss: 98.31/0.174\n",
            "[Epoch 421/500] VAL   acc/loss: 98.30/0.177\n",
            "[Epoch 422/500] VAL   acc/loss: 98.32/0.172\n",
            "[Epoch 423/500] VAL   acc/loss: 98.30/0.175\n",
            "[Epoch 424/500] VAL   acc/loss: 98.32/0.177\n",
            "[Epoch 425/500] VAL   acc/loss: 98.30/0.178\n",
            "[Epoch 426/500] VAL   acc/loss: 98.32/0.178\n",
            "[Epoch 427/500] VAL   acc/loss: 98.32/0.178\n",
            "[Epoch 428/500] VAL   acc/loss: 98.31/0.179\n",
            "[Epoch 429/500] VAL   acc/loss: 98.31/0.180\n",
            "[Epoch 430/500] VAL   acc/loss: 98.33/0.180\n",
            "[Epoch 431/500] VAL   acc/loss: 98.31/0.182\n",
            "[Epoch 432/500] VAL   acc/loss: 98.31/0.183\n",
            "[Epoch 433/500] VAL   acc/loss: 98.30/0.184\n",
            "[Epoch 434/500] VAL   acc/loss: 98.31/0.184\n",
            "[Epoch 435/500] VAL   acc/loss: 98.29/0.186\n",
            "[Epoch 436/500] VAL   acc/loss: 98.30/0.185\n",
            "[Epoch 437/500] VAL   acc/loss: 98.30/0.187\n",
            "[Epoch 438/500] VAL   acc/loss: 98.29/0.188\n",
            "[Epoch 439/500] VAL   acc/loss: 98.29/0.189\n",
            "[Epoch 440/500] VAL   acc/loss: 98.30/0.188\n",
            "[Epoch 441/500] VAL   acc/loss: 98.29/0.189\n",
            "[Epoch 442/500] VAL   acc/loss: 98.29/0.191\n",
            "[Epoch 443/500] VAL   acc/loss: 98.29/0.189\n",
            "[Epoch 444/500] VAL   acc/loss: 98.29/0.192\n",
            "[Epoch 445/500] VAL   acc/loss: 98.26/0.191\n",
            "[Epoch 446/500] VAL   acc/loss: 98.28/0.188\n",
            "[Epoch 447/500] VAL   acc/loss: 98.29/0.190\n",
            "[Epoch 448/500] VAL   acc/loss: 98.30/0.192\n",
            "[Epoch 449/500] VAL   acc/loss: 98.29/0.194\n",
            "[Epoch 450/500] VAL   acc/loss: 98.28/0.194\n",
            "[Epoch 451/500] VAL   acc/loss: 98.29/0.195\n",
            "[Epoch 452/500] VAL   acc/loss: 98.28/0.195\n",
            "[Epoch 453/500] VAL   acc/loss: 98.29/0.196\n",
            "[Epoch 454/500] VAL   acc/loss: 98.30/0.196\n",
            "[Epoch 455/500] VAL   acc/loss: 98.30/0.197\n",
            "[Epoch 456/500] VAL   acc/loss: 98.29/0.199\n",
            "[Epoch 457/500] VAL   acc/loss: 98.29/0.199\n",
            "[Epoch 458/500] VAL   acc/loss: 98.29/0.199\n",
            "[Epoch 459/500] VAL   acc/loss: 98.29/0.199\n",
            "[Epoch 460/500] VAL   acc/loss: 98.29/0.202\n",
            "[Epoch 461/500] VAL   acc/loss: 98.29/0.203\n",
            "[Epoch 462/500] VAL   acc/loss: 98.29/0.203\n",
            "[Epoch 463/500] VAL   acc/loss: 98.29/0.204\n",
            "[Epoch 464/500] VAL   acc/loss: 98.29/0.205\n",
            "[Epoch 465/500] VAL   acc/loss: 98.29/0.205\n",
            "[Epoch 466/500] VAL   acc/loss: 98.30/0.206\n",
            "[Epoch 467/500] VAL   acc/loss: 98.30/0.206\n",
            "[Epoch 468/500] VAL   acc/loss: 98.30/0.208\n",
            "[Epoch 469/500] VAL   acc/loss: 98.30/0.208\n",
            "[Epoch 470/500] VAL   acc/loss: 98.30/0.209\n",
            "[Epoch 471/500] VAL   acc/loss: 98.30/0.209\n",
            "[Epoch 472/500] VAL   acc/loss: 98.30/0.209\n",
            "[Epoch 473/500] VAL   acc/loss: 98.30/0.211\n",
            "[Epoch 474/500] VAL   acc/loss: 98.32/0.211\n",
            "[Epoch 475/500] VAL   acc/loss: 98.30/0.212\n",
            "[Epoch 476/500] VAL   acc/loss: 98.31/0.212\n",
            "[Epoch 477/500] VAL   acc/loss: 98.31/0.214\n",
            "[Epoch 478/500] VAL   acc/loss: 98.30/0.214\n",
            "[Epoch 479/500] VAL   acc/loss: 98.30/0.215\n",
            "[Epoch 480/500] VAL   acc/loss: 98.30/0.215\n",
            "[Epoch 481/500] VAL   acc/loss: 98.32/0.216\n",
            "[Epoch 482/500] VAL   acc/loss: 98.31/0.216\n",
            "[Epoch 483/500] VAL   acc/loss: 98.31/0.219\n",
            "[Epoch 484/500] VAL   acc/loss: 98.30/0.218\n",
            "[Epoch 485/500] VAL   acc/loss: 98.32/0.219\n",
            "[Epoch 486/500] VAL   acc/loss: 98.30/0.220\n",
            "[Epoch 487/500] VAL   acc/loss: 98.31/0.220\n",
            "[Epoch 488/500] VAL   acc/loss: 98.32/0.220\n",
            "[Epoch 489/500] VAL   acc/loss: 98.32/0.222\n",
            "[Epoch 490/500] VAL   acc/loss: 98.32/0.222\n",
            "[Epoch 491/500] VAL   acc/loss: 98.32/0.224\n",
            "[Epoch 492/500] VAL   acc/loss: 98.30/0.221\n",
            "[Epoch 493/500] VAL   acc/loss: 98.30/0.224\n",
            "[Epoch 494/500] VAL   acc/loss: 98.32/0.225\n",
            "[Epoch 495/500] VAL   acc/loss: 98.32/0.225\n",
            "[Epoch 496/500] VAL   acc/loss: 98.32/0.226\n",
            "[Epoch 497/500] VAL   acc/loss: 98.32/0.226\n",
            "[Epoch 498/500] VAL   acc/loss: 98.31/0.226\n",
            "[Epoch 499/500] VAL   acc/loss: 98.32/0.226\n",
            "[Epoch 500/500] VAL   acc/loss: 98.31/0.227\n",
            "Best VAL acc: 98.38\n",
            "FINISH.\n",
            "--------------------------------\n"
          ],
          "name": "stdout"
        }
      ]
    },
    {
      "cell_type": "markdown",
      "metadata": {
        "id": "pGFO_FPZnKnp",
        "colab_type": "text"
      },
      "source": [
        "Train your RNN classifier and try to tune the hyperparameters. With your simple RNN classifier you should exceed an accuracy higher than __90%__."
      ]
    },
    {
      "cell_type": "markdown",
      "metadata": {
        "id": "Fuef0WT-nKn1",
        "colab_type": "text"
      },
      "source": [
        "# Test your Model\n",
        "When you are satisfied with your training, you can save the model. In order to be eligible for the bonus points you have to achieve a score higher than __97__."
      ]
    },
    {
      "cell_type": "markdown",
      "metadata": {
        "id": "J_hzxVBOnKn3",
        "colab_type": "text"
      },
      "source": [
        "## Save the Model\n",
        "\n",
        "When you are satisfied with your training, you can save the model."
      ]
    },
    {
      "cell_type": "code",
      "metadata": {
        "id": "EZf4X3WCnKn5",
        "colab_type": "code",
        "colab": {}
      },
      "source": [
        "os.makedirs('models', exist_ok=True)\n",
        "best_net.save(\"models/rnn_mnist_nn.model\")"
      ],
      "execution_count": 0,
      "outputs": []
    }
  ]
}